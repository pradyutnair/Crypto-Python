{
 "cells": [
  {
   "cell_type": "markdown",
   "metadata": {},
   "source": [
    "# Imports"
   ]
  },
  {
   "cell_type": "code",
   "execution_count": 1,
   "metadata": {},
   "outputs": [],
   "source": [
    "import math\n",
    "import yfinance as yf\n",
    "import numpy as np\n",
    "import pandas as pd\n",
    "from sklearn.preprocessing import MinMaxScaler \n",
    "import matplotlib.pyplot as plt\n",
    "import tensorflow as tf\n",
    "from tensorflow import keras\n",
    "from tensorflow.keras import layers\n",
    "from pycoingecko import CoinGeckoAPI\n",
    "from sklearn.model_selection import train_test_split\n",
    "import requests\n",
    "import pandas as pd\n",
    "import plotly.graph_objects as go\n",
    "from sklearn.metrics import mean_squared_error\n",
    "from sklearn.metrics import r2_score\n",
    "import plotly.express as px"
   ]
  },
  {
   "cell_type": "markdown",
   "metadata": {},
   "source": [
    "# Import data"
   ]
  },
  {
   "cell_type": "code",
   "execution_count": 2,
   "metadata": {},
   "outputs": [
    {
     "data": {
      "text/html": [
       "<div>\n",
       "<style scoped>\n",
       "    .dataframe tbody tr th:only-of-type {\n",
       "        vertical-align: middle;\n",
       "    }\n",
       "\n",
       "    .dataframe tbody tr th {\n",
       "        vertical-align: top;\n",
       "    }\n",
       "\n",
       "    .dataframe thead th {\n",
       "        text-align: right;\n",
       "    }\n",
       "</style>\n",
       "<table border=\"1\" class=\"dataframe\">\n",
       "  <thead>\n",
       "    <tr style=\"text-align: right;\">\n",
       "      <th></th>\n",
       "      <th>open</th>\n",
       "      <th>high</th>\n",
       "      <th>low</th>\n",
       "      <th>close</th>\n",
       "      <th>volume</th>\n",
       "    </tr>\n",
       "  </thead>\n",
       "  <tbody>\n",
       "    <tr>\n",
       "      <th>2020-01-01</th>\n",
       "      <td>0.03285</td>\n",
       "      <td>0.03380</td>\n",
       "      <td>0.03270</td>\n",
       "      <td>0.03348</td>\n",
       "      <td>29827408.5</td>\n",
       "    </tr>\n",
       "    <tr>\n",
       "      <th>2020-01-02</th>\n",
       "      <td>0.03345</td>\n",
       "      <td>0.03348</td>\n",
       "      <td>0.03218</td>\n",
       "      <td>0.03269</td>\n",
       "      <td>42826456.1</td>\n",
       "    </tr>\n",
       "    <tr>\n",
       "      <th>2020-01-03</th>\n",
       "      <td>0.03269</td>\n",
       "      <td>0.03446</td>\n",
       "      <td>0.03236</td>\n",
       "      <td>0.03417</td>\n",
       "      <td>102581046.7</td>\n",
       "    </tr>\n",
       "    <tr>\n",
       "      <th>2020-01-04</th>\n",
       "      <td>0.03417</td>\n",
       "      <td>0.03450</td>\n",
       "      <td>0.03375</td>\n",
       "      <td>0.03434</td>\n",
       "      <td>55528746.4</td>\n",
       "    </tr>\n",
       "    <tr>\n",
       "      <th>2020-01-05</th>\n",
       "      <td>0.03436</td>\n",
       "      <td>0.03527</td>\n",
       "      <td>0.03419</td>\n",
       "      <td>0.03460</td>\n",
       "      <td>71815282.1</td>\n",
       "    </tr>\n",
       "    <tr>\n",
       "      <th>...</th>\n",
       "      <td>...</td>\n",
       "      <td>...</td>\n",
       "      <td>...</td>\n",
       "      <td>...</td>\n",
       "      <td>...</td>\n",
       "    </tr>\n",
       "    <tr>\n",
       "      <th>2022-02-03</th>\n",
       "      <td>1.02700</td>\n",
       "      <td>1.06200</td>\n",
       "      <td>1.01600</td>\n",
       "      <td>1.06100</td>\n",
       "      <td>98542208.5</td>\n",
       "    </tr>\n",
       "    <tr>\n",
       "      <th>2022-02-04</th>\n",
       "      <td>1.06100</td>\n",
       "      <td>1.13900</td>\n",
       "      <td>1.04500</td>\n",
       "      <td>1.13800</td>\n",
       "      <td>135205051.6</td>\n",
       "    </tr>\n",
       "    <tr>\n",
       "      <th>2022-02-05</th>\n",
       "      <td>1.13800</td>\n",
       "      <td>1.17800</td>\n",
       "      <td>1.09700</td>\n",
       "      <td>1.12500</td>\n",
       "      <td>152710784.3</td>\n",
       "    </tr>\n",
       "    <tr>\n",
       "      <th>2022-02-06</th>\n",
       "      <td>1.12500</td>\n",
       "      <td>1.15000</td>\n",
       "      <td>1.09700</td>\n",
       "      <td>1.14300</td>\n",
       "      <td>107099317.0</td>\n",
       "    </tr>\n",
       "    <tr>\n",
       "      <th>2022-02-07</th>\n",
       "      <td>1.14200</td>\n",
       "      <td>1.14500</td>\n",
       "      <td>1.12500</td>\n",
       "      <td>1.13100</td>\n",
       "      <td>7795562.4</td>\n",
       "    </tr>\n",
       "  </tbody>\n",
       "</table>\n",
       "<p>769 rows × 5 columns</p>\n",
       "</div>"
      ],
      "text/plain": [
       "               open     high      low    close       volume\n",
       "2020-01-01  0.03285  0.03380  0.03270  0.03348   29827408.5\n",
       "2020-01-02  0.03345  0.03348  0.03218  0.03269   42826456.1\n",
       "2020-01-03  0.03269  0.03446  0.03236  0.03417  102581046.7\n",
       "2020-01-04  0.03417  0.03450  0.03375  0.03434   55528746.4\n",
       "2020-01-05  0.03436  0.03527  0.03419  0.03460   71815282.1\n",
       "...             ...      ...      ...      ...          ...\n",
       "2022-02-03  1.02700  1.06200  1.01600  1.06100   98542208.5\n",
       "2022-02-04  1.06100  1.13900  1.04500  1.13800  135205051.6\n",
       "2022-02-05  1.13800  1.17800  1.09700  1.12500  152710784.3\n",
       "2022-02-06  1.12500  1.15000  1.09700  1.14300  107099317.0\n",
       "2022-02-07  1.14200  1.14500  1.12500  1.13100    7795562.4\n",
       "\n",
       "[769 rows x 5 columns]"
      ]
     },
     "execution_count": 2,
     "metadata": {},
     "output_type": "execute_result"
    }
   ],
   "source": [
    "\n",
    "\n",
    "def get_crypto_price(symbol, exchange, start_date = None):\n",
    "    api_key = 'YOUR API KEY'\n",
    "    api_url = f'https://www.alphavantage.co/query?function=DIGITAL_CURRENCY_DAILY&symbol={symbol}&market={exchange}&apikey={api_key}'\n",
    "    raw_df = requests.get(api_url).json()\n",
    "    df = pd.DataFrame(raw_df['Time Series (Digital Currency Daily)']).T\n",
    "    df = df.rename(columns = {'1a. open (USD)': 'open', '2a. high (USD)': 'high', '3a. low (USD)': 'low', '4a. close (USD)': 'close', '5. volume': 'volume'})\n",
    "    for i in df.columns:\n",
    "        df[i] = df[i].astype(float)\n",
    "    df.index = pd.to_datetime(df.index)\n",
    "    df = df.iloc[::-1].drop(['1b. open (USD)', '2b. high (USD)', '3b. low (USD)', '4b. close (USD)', '6. market cap (USD)'], axis = 1)\n",
    "    if start_date:\n",
    "        df = df[df.index >= start_date]\n",
    "    return df\n",
    "\n",
    "df = get_crypto_price(symbol = 'ADA', exchange = 'USD', start_date = '2020-01-01')\n",
    "df"
   ]
  },
  {
   "cell_type": "markdown",
   "metadata": {},
   "source": [
    "## Plot prices"
   ]
  },
  {
   "cell_type": "code",
   "execution_count": 3,
   "metadata": {},
   "outputs": [
    {
     "data": {
      "image/png": "[encoded data removed]",
      "text/plain": [
       "<Figure size 1080x576 with 1 Axes>"
      ]
     },
     "metadata": {
      "needs_background": "light"
     },
     "output_type": "display_data"
    }
   ],
   "source": [
    "plt.figure(figsize=(15, 8))\n",
    "plt.title('Stock Prices History')\n",
    "plt.plot(df['close'])\n",
    "plt.xlabel('Date')\n",
    "plt.ylabel('Prices ($)');"
   ]
  },
  {
   "cell_type": "code",
   "execution_count": 4,
   "metadata": {},
   "outputs": [
    {
     "data": {
      "application/vnd.plotly.v1+json": {
       "config": {
        "plotlyServerURL": "https://plot.ly"
       },
       "data": [
        {
         "close": [
          0.03348,
          0.03269,
          0.03417,
          0.03434,
          0.0346,
          0.03732,
          0.037,
          0.03631,
          0.03616,
          0.03693,
          0.03678,
          0.03792,
          0.03682,
          0.04161,
          0.04275,
          0.04168,
          0.0449,
          0.04489,
          0.042,
          0.04378,
          0.04602,
          0.04575,
          0.04318,
          0.04495,
          0.04314,
          0.04477,
          0.04796,
          0.0529,
          0.05329,
          0.05614,
          0.0539,
          0.0561,
          0.0557,
          0.05696,
          0.05601,
          0.05933,
          0.06008,
          0.05987,
          0.06002,
          0.06188,
          0.06029,
          0.06335,
          0.06817,
          0.06867,
          0.07074,
          0.06426,
          0.06146,
          0.06019,
          0.06274,
          0.05737,
          0.05815,
          0.05853,
          0.05825,
          0.06145,
          0.05906,
          0.05603,
          0.04915,
          0.04986,
          0.04885,
          0.0471,
          0.04561,
          0.04923,
          0.04866,
          0.04898,
          0.05096,
          0.05174,
          0.04879,
          0.04291,
          0.04156,
          0.04146,
          0.03969,
          0.02329,
          0.02843,
          0.02582,
          0.02693,
          0.02423,
          0.02575,
          0.02607,
          0.0303,
          0.02946,
          0.02948,
          0.02703,
          0.02925,
          0.03023,
          0.02945,
          0.03086,
          0.02882,
          0.02975,
          0.02806,
          0.02965,
          0.03045,
          0.03097,
          0.03188,
          0.03231,
          0.03244,
          0.0319,
          0.03592,
          0.03525,
          0.03639,
          0.03607,
          0.03321,
          0.03343,
          0.03347,
          0.03311,
          0.03312,
          0.03185,
          0.03446,
          0.03432,
          0.03654,
          0.03549,
          0.03391,
          0.03454,
          0.03664,
          0.04088,
          0.04165,
          0.04222,
          0.04593,
          0.04648,
          0.04679,
          0.05146,
          0.04752,
          0.05091,
          0.0509,
          0.04898,
          0.04942,
          0.04945,
          0.04889,
          0.05123,
          0.05201,
          0.05145,
          0.04755,
          0.04779,
          0.05043,
          0.05147,
          0.05098,
          0.05026,
          0.051,
          0.05129,
          0.05434,
          0.05677,
          0.05689,
          0.05207,
          0.05576,
          0.0549,
          0.05125,
          0.0539,
          0.05355,
          0.05513,
          0.06502,
          0.06469,
          0.07691,
          0.0739,
          0.08093,
          0.07872,
          0.08558,
          0.08882,
          0.08517,
          0.08614,
          0.08657,
          0.08648,
          0.08291,
          0.0836,
          0.07527,
          0.07948,
          0.07906,
          0.07642,
          0.07824,
          0.07925,
          0.08349,
          0.08176,
          0.07987,
          0.07953,
          0.07841,
          0.08355,
          0.08276,
          0.08254,
          0.08167,
          0.08062,
          0.07738,
          0.08028,
          0.08392,
          0.08299,
          0.09681,
          0.09291,
          0.09655,
          0.10005,
          0.09813,
          0.10512,
          0.11764,
          0.12993,
          0.12403,
          0.11846,
          0.12523,
          0.12685,
          0.12427,
          0.13256,
          0.13069,
          0.12602,
          0.12224,
          0.1227,
          0.12402,
          0.11771,
          0.12321,
          0.1238,
          0.12422,
          0.12197,
          0.14362,
          0.14849,
          0.13859,
          0.14904,
          0.13972,
          0.1406,
          0.13878,
          0.1441,
          0.13375,
          0.1373,
          0.14335,
          0.14227,
          0.14444,
          0.13888,
          0.14696,
          0.14512,
          0.14383,
          0.13685,
          0.1367,
          0.13944,
          0.13826,
          0.13837,
          0.13882,
          0.14039,
          0.13691,
          0.12966,
          0.13413,
          0.12315,
          0.12515,
          0.12141,
          0.12361,
          0.11239,
          0.11435,
          0.10725,
          0.10927,
          0.11623,
          0.11747,
          0.12253,
          0.12445,
          0.11489,
          0.09446,
          0.10156,
          0.09,
          0.0926,
          0.0936,
          0.09101,
          0.09331,
          0.09709,
          0.09701,
          0.09771,
          0.09507,
          0.09663,
          0.09313,
          0.09151,
          0.09408,
          0.09093,
          0.09141,
          0.08936,
          0.07983,
          0.08146,
          0.07663,
          0.08254,
          0.09693,
          0.09547,
          0.1013,
          0.1003,
          0.1011,
          0.10136,
          0.09804,
          0.09286,
          0.09328,
          0.09686,
          0.09738,
          0.09289,
          0.09374,
          0.09632,
          0.10129,
          0.10493,
          0.10648,
          0.10945,
          0.10925,
          0.10703,
          0.10666,
          0.10414,
          0.10598,
          0.10735,
          0.10859,
          0.10238,
          0.10589,
          0.11077,
          0.10805,
          0.10797,
          0.10639,
          0.10306,
          0.10256,
          0.09869,
          0.09531,
          0.0933,
          0.093,
          0.09827,
          0.09221,
          0.09357,
          0.0955,
          0.09752,
          0.1091,
          0.10128,
          0.10655,
          0.10561,
          0.1059,
          0.10599,
          0.1046,
          0.10629,
          0.10411,
          0.10046,
          0.10387,
          0.10947,
          0.10658,
          0.1059,
          0.11828,
          0.13334,
          0.14599,
          0.15445,
          0.16721,
          0.15473,
          0.13843,
          0.14178,
          0.16489,
          0.16663,
          0.17204,
          0.15562,
          0.15845,
          0.16398,
          0.14781,
          0.15993,
          0.15873,
          0.15401,
          0.1412,
          0.14796,
          0.14188,
          0.13926,
          0.14438,
          0.15406,
          0.15877,
          0.15381,
          0.16814,
          0.16336,
          0.16502,
          0.16433,
          0.16201,
          0.15278,
          0.15646,
          0.13635,
          0.15304,
          0.15761,
          0.15839,
          0.15467,
          0.17627,
          0.19067,
          0.18389,
          0.18134,
          0.17509,
          0.17742,
          0.20615,
          0.22528,
          0.25873,
          0.33309,
          0.29928,
          0.30389,
          0.33062,
          0.30153,
          0.2757,
          0.28888,
          0.3123,
          0.31201,
          0.30188,
          0.35071,
          0.38081,
          0.37123,
          0.3672,
          0.37532,
          0.30785,
          0.34867,
          0.34583,
          0.35345,
          0.34308,
          0.3433,
          0.31144,
          0.34409,
          0.34752,
          0.364,
          0.34475,
          0.40876,
          0.42498,
          0.44189,
          0.43934,
          0.53917,
          0.63444,
          0.66109,
          0.67638,
          0.70562,
          0.93966,
          0.92796,
          0.92426,
          0.91299,
          0.84364,
          0.86143,
          0.87,
          0.89206,
          0.91442,
          0.92581,
          1.11568,
          1.09894,
          1.09703,
          0.96197,
          1.04902,
          1.07691,
          1.24303,
          1.31402,
          1.31203,
          1.29627,
          1.2228,
          1.21311,
          1.11239,
          1.15908,
          1.129,
          1.13042,
          1.11848,
          1.1972,
          1.13261,
          1.1243,
          1.03207,
          1.1,
          1.05243,
          1.03103,
          1.24924,
          1.377,
          1.22925,
          1.29474,
          1.20046,
          1.18561,
          1.1015,
          1.11639,
          1.06902,
          1.0956,
          1.2142,
          1.17678,
          1.18983,
          1.20239,
          1.21189,
          1.19191,
          1.18377,
          1.18998,
          1.16238,
          1.18206,
          1.2118,
          1.252,
          1.17359,
          1.21926,
          1.20201,
          1.21747,
          1.26355,
          1.31431,
          1.41246,
          1.45092,
          1.4782,
          1.40989,
          1.36802,
          1.27693,
          1.1945,
          1.26689,
          1.20358,
          1.144,
          1.15866,
          1.10287,
          1.0913,
          1.2375,
          1.3063,
          1.3379,
          1.3063,
          1.3532,
          1.3516,
          1.3267,
          1.3622,
          1.2698,
          1.4798,
          1.6491,
          1.653,
          1.6211,
          1.7663,
          1.6423,
          1.7632,
          1.5694,
          1.9296,
          2.0069,
          2.1744,
          2.3002,
          2.0307,
          2.0036,
          1.4663,
          1.8006,
          1.5493,
          1.4629,
          1.3139,
          1.55,
          1.5532,
          1.7791,
          1.6552,
          1.5133,
          1.4029,
          1.5751,
          1.7373,
          1.7363,
          1.7534,
          1.8453,
          1.7077,
          1.6551,
          1.6771,
          1.5659,
          1.5819,
          1.6279,
          1.5328,
          1.4371,
          1.4789,
          1.5566,
          1.5769,
          1.5552,
          1.4851,
          1.4826,
          1.4163,
          1.3839,
          1.4263,
          1.174,
          1.1567,
          1.2512,
          1.3604,
          1.2521,
          1.2521,
          1.338,
          1.326,
          1.373,
          1.3853,
          1.3313,
          1.3946,
          1.4045,
          1.4615,
          1.4039,
          1.4157,
          1.404,
          1.327,
          1.3504,
          1.3356,
          1.3485,
          1.3126,
          1.265,
          1.2635,
          1.2258,
          1.1708,
          1.1721,
          1.1813,
          1.1225,
          1.0539,
          1.1711,
          1.1856,
          1.2077,
          1.2327,
          1.2284,
          1.2551,
          1.2799,
          1.2875,
          1.2856,
          1.3108,
          1.3193,
          1.3142,
          1.3083,
          1.3696,
          1.3765,
          1.3859,
          1.4025,
          1.4727,
          1.4255,
          1.4745,
          1.678,
          1.7934,
          1.8324,
          2.1386,
          2.1878,
          2.1667,
          2.0714,
          1.9239,
          2.1043,
          2.4411,
          2.4557,
          2.4341,
          2.7049,
          2.9152,
          2.7187,
          2.739,
          2.528,
          2.946,
          2.847,
          2.851,
          2.734,
          2.767,
          2.869,
          2.96,
          2.966,
          2.83,
          2.91,
          2.833,
          2.514,
          2.47,
          2.518,
          2.383,
          2.638,
          2.581,
          2.402,
          2.396,
          2.505,
          2.417,
          2.35,
          2.371,
          2.283,
          2.079,
          1.986,
          2.257,
          2.327,
          2.277,
          2.3,
          2.207,
          2.13,
          2.037,
          2.066,
          2.115,
          2.256,
          2.247,
          2.251,
          2.191,
          2.233,
          2.209,
          2.278,
          2.237,
          2.268,
          2.189,
          2.171,
          2.118,
          2.19,
          2.172,
          2.218,
          2.179,
          2.158,
          2.128,
          2.11,
          2.19,
          2.137,
          2.156,
          2.166,
          2.12,
          2.144,
          2.137,
          1.912,
          1.987,
          2.015,
          1.955,
          1.964,
          1.949,
          1.971,
          2.063,
          1.983,
          1.982,
          2.005,
          2.021,
          2.125,
          2.27,
          2.097,
          2.079,
          2.045,
          2.05,
          2.04,
          2.017,
          1.874,
          1.876,
          1.786,
          1.863,
          1.922,
          1.835,
          1.776,
          1.751,
          1.666,
          1.675,
          1.533,
          1.543,
          1.594,
          1.601,
          1.554,
          1.548,
          1.719,
          1.556,
          1.42,
          1.378,
          1.42,
          1.378,
          1.396,
          1.289,
          1.211,
          1.354,
          1.346,
          1.223,
          1.266,
          1.311,
          1.24,
          1.218,
          1.242,
          1.243,
          1.237,
          1.28,
          1.327,
          1.475,
          1.392,
          1.452,
          1.455,
          1.516,
          1.4,
          1.332,
          1.359,
          1.308,
          1.38,
          1.377,
          1.319,
          1.309,
          1.23,
          1.28,
          1.21,
          1.181,
          1.17,
          1.123,
          1.187,
          1.312,
          1.233,
          1.292,
          1.291,
          1.41,
          1.603,
          1.458,
          1.337,
          1.259,
          1.12,
          1.071,
          1.124,
          1.065,
          1.043,
          1.077,
          1.042,
          1.048,
          1.059,
          1.035,
          1.051,
          1.096,
          1.027,
          1.061,
          1.138,
          1.125,
          1.143,
          1.131
         ],
         "high": [
          0.0338,
          0.03348,
          0.03446,
          0.0345,
          0.03527,
          0.03736,
          0.03808,
          0.03875,
          0.03637,
          0.03709,
          0.0378,
          0.03792,
          0.03795,
          0.04277,
          0.04324,
          0.0433,
          0.04595,
          0.04583,
          0.046,
          0.04435,
          0.04684,
          0.04655,
          0.0459,
          0.04539,
          0.04525,
          0.04478,
          0.04903,
          0.05471,
          0.05771,
          0.0573,
          0.0568,
          0.05723,
          0.0587,
          0.05785,
          0.05788,
          0.06019,
          0.06088,
          0.06279,
          0.06135,
          0.0624,
          0.0621,
          0.0635,
          0.07034,
          0.07231,
          0.07127,
          0.07136,
          0.06713,
          0.0627,
          0.06373,
          0.063,
          0.05894,
          0.06,
          0.05909,
          0.062,
          0.0618,
          0.05916,
          0.05667,
          0.05217,
          0.05134,
          0.05,
          0.04831,
          0.0498,
          0.04941,
          0.05034,
          0.05229,
          0.05174,
          0.05186,
          0.04876,
          0.044,
          0.04299,
          0.04182,
          0.03983,
          0.02938,
          0.0289,
          0.02904,
          0.02697,
          0.0265,
          0.02653,
          0.03198,
          0.03396,
          0.03067,
          0.03044,
          0.02993,
          0.03041,
          0.03043,
          0.03102,
          0.03143,
          0.02998,
          0.02999,
          0.03044,
          0.03067,
          0.03097,
          0.03352,
          0.03272,
          0.03272,
          0.03256,
          0.03611,
          0.03695,
          0.03683,
          0.0366,
          0.0362,
          0.0341,
          0.03489,
          0.03353,
          0.03376,
          0.0337,
          0.035,
          0.03494,
          0.037,
          0.03675,
          0.0366,
          0.035,
          0.03668,
          0.04257,
          0.04473,
          0.04358,
          0.04616,
          0.04765,
          0.0481,
          0.052,
          0.05439,
          0.05187,
          0.05147,
          0.05169,
          0.05027,
          0.0506,
          0.05119,
          0.05158,
          0.05376,
          0.05308,
          0.05156,
          0.05,
          0.05118,
          0.05227,
          0.052,
          0.05197,
          0.05141,
          0.05225,
          0.055,
          0.057,
          0.0576,
          0.0576,
          0.057,
          0.05648,
          0.05616,
          0.05434,
          0.05417,
          0.05595,
          0.06766,
          0.06667,
          0.07748,
          0.0865,
          0.08306,
          0.08248,
          0.0861,
          0.09039,
          0.08914,
          0.0873,
          0.08867,
          0.08695,
          0.08678,
          0.08399,
          0.08512,
          0.0809,
          0.07959,
          0.07918,
          0.07984,
          0.07978,
          0.08398,
          0.08454,
          0.0819,
          0.08023,
          0.08099,
          0.08396,
          0.08445,
          0.08723,
          0.08351,
          0.08181,
          0.081,
          0.08109,
          0.08444,
          0.0847,
          0.09708,
          0.09685,
          0.1021,
          0.10118,
          0.10005,
          0.10676,
          0.11916,
          0.13877,
          0.12993,
          0.12428,
          0.12726,
          0.12849,
          0.136,
          0.135,
          0.13283,
          0.13333,
          0.12671,
          0.12475,
          0.12475,
          0.12431,
          0.12468,
          0.12466,
          0.12607,
          0.12437,
          0.14588,
          0.15464,
          0.14983,
          0.15101,
          0.14998,
          0.1426,
          0.14133,
          0.14691,
          0.1485,
          0.1393,
          0.14825,
          0.14533,
          0.14585,
          0.14746,
          0.14788,
          0.1523,
          0.14653,
          0.1445,
          0.13787,
          0.14212,
          0.14117,
          0.1418,
          0.13961,
          0.14484,
          0.144,
          0.13832,
          0.13453,
          0.13436,
          0.12618,
          0.1259,
          0.12707,
          0.12395,
          0.11819,
          0.11583,
          0.11166,
          0.11796,
          0.11879,
          0.1268,
          0.12812,
          0.12642,
          0.11693,
          0.10399,
          0.10398,
          0.09614,
          0.09421,
          0.09699,
          0.09575,
          0.0995,
          0.09755,
          0.0985,
          0.09981,
          0.09787,
          0.09804,
          0.09334,
          0.09475,
          0.09415,
          0.09325,
          0.09223,
          0.09017,
          0.08335,
          0.0828,
          0.08376,
          0.09867,
          0.09997,
          0.10273,
          0.10671,
          0.1036,
          0.10175,
          0.10465,
          0.1004,
          0.09532,
          0.09804,
          0.09948,
          0.09864,
          0.09449,
          0.09731,
          0.10255,
          0.11151,
          0.10899,
          0.11369,
          0.11428,
          0.11238,
          0.10782,
          0.10733,
          0.10739,
          0.10761,
          0.1111,
          0.10883,
          0.10858,
          0.11279,
          0.11228,
          0.1099,
          0.10879,
          0.1076,
          0.10568,
          0.10331,
          0.10082,
          0.09569,
          0.09555,
          0.09868,
          0.10004,
          0.09417,
          0.09628,
          0.0981,
          0.11,
          0.11387,
          0.10832,
          0.10799,
          0.10915,
          0.1089,
          0.10667,
          0.10798,
          0.1073,
          0.10527,
          0.10499,
          0.11246,
          0.11161,
          0.10816,
          0.119,
          0.13472,
          0.15352,
          0.15925,
          0.183,
          0.17549,
          0.16085,
          0.14559,
          0.17233,
          0.17136,
          0.17399,
          0.17456,
          0.15997,
          0.16842,
          0.16464,
          0.16198,
          0.16288,
          0.15906,
          0.1552,
          0.15025,
          0.14865,
          0.14291,
          0.14736,
          0.15669,
          0.1588,
          0.16,
          0.16844,
          0.17628,
          0.16942,
          0.17082,
          0.169,
          0.16714,
          0.16124,
          0.15786,
          0.15477,
          0.167,
          0.16242,
          0.16642,
          0.18057,
          0.19725,
          0.19389,
          0.1864,
          0.18473,
          0.18457,
          0.2096,
          0.23992,
          0.26429,
          0.34772,
          0.3553,
          0.32165,
          0.33851,
          0.3412,
          0.30397,
          0.31442,
          0.31587,
          0.32455,
          0.33225,
          0.36696,
          0.3974,
          0.39724,
          0.39001,
          0.3769,
          0.37945,
          0.3598,
          0.35763,
          0.36926,
          0.36415,
          0.35111,
          0.34396,
          0.35575,
          0.36836,
          0.37694,
          0.37752,
          0.42411,
          0.4559,
          0.44961,
          0.45,
          0.56,
          0.66706,
          0.70888,
          0.7238,
          0.71206,
          0.95306,
          0.98,
          0.94825,
          0.95053,
          0.919,
          0.911,
          0.90591,
          0.89745,
          0.9578,
          0.9456,
          1.2,
          1.15172,
          1.146,
          1.142,
          1.077,
          1.177,
          1.298,
          1.488,
          1.3595,
          1.348,
          1.29998,
          1.26636,
          1.23052,
          1.1972,
          1.183,
          1.145,
          1.17835,
          1.22,
          1.208,
          1.14,
          1.128,
          1.193,
          1.10265,
          1.07078,
          1.28,
          1.43,
          1.47299,
          1.34286,
          1.30974,
          1.24139,
          1.20782,
          1.1739,
          1.1639,
          1.1535,
          1.28755,
          1.2389,
          1.22,
          1.22979,
          1.23555,
          1.21273,
          1.20772,
          1.24796,
          1.24078,
          1.193,
          1.22647,
          1.34359,
          1.29,
          1.22502,
          1.22907,
          1.25199,
          1.28989,
          1.348,
          1.4378,
          1.55845,
          1.49539,
          1.51915,
          1.45805,
          1.38654,
          1.32443,
          1.28241,
          1.29,
          1.27984,
          1.16895,
          1.198,
          1.14678,
          1.2509,
          1.3333,
          1.3488,
          1.4117,
          1.3709,
          1.3678,
          1.3556,
          1.38,
          1.3673,
          1.497,
          1.7,
          1.7478,
          1.6543,
          1.833,
          1.8243,
          1.7791,
          1.821,
          1.9719,
          2.043,
          2.3789,
          2.47,
          2.329,
          2.1492,
          2.0317,
          1.9487,
          1.87,
          1.602,
          1.5397,
          1.5974,
          1.6499,
          1.832,
          1.7885,
          1.678,
          1.5624,
          1.7,
          1.75,
          1.7796,
          1.8042,
          1.8897,
          1.848,
          1.7823,
          1.7077,
          1.7414,
          1.5966,
          1.635,
          1.6378,
          1.5474,
          1.4934,
          1.58,
          1.595,
          1.6109,
          1.5754,
          1.5388,
          1.4927,
          1.4411,
          1.46,
          1.4371,
          1.2634,
          1.31,
          1.3998,
          1.3971,
          1.2923,
          1.3499,
          1.3506,
          1.42,
          1.3993,
          1.3862,
          1.3959,
          1.4444,
          1.4955,
          1.4616,
          1.4578,
          1.4416,
          1.4065,
          1.3746,
          1.366,
          1.3669,
          1.3736,
          1.3216,
          1.2894,
          1.29,
          1.245,
          1.1948,
          1.2186,
          1.1921,
          1.1362,
          1.2222,
          1.2081,
          1.2089,
          1.2487,
          1.2388,
          1.3991,
          1.3158,
          1.32,
          1.2987,
          1.3179,
          1.3329,
          1.3879,
          1.35,
          1.3827,
          1.3938,
          1.3974,
          1.425,
          1.485,
          1.4941,
          1.499,
          1.701,
          1.895,
          1.869,
          2.1495,
          2.25,
          2.2499,
          2.2,
          2.1414,
          2.1643,
          2.455,
          2.5817,
          2.5288,
          2.7212,
          2.9719,
          2.947,
          2.797,
          2.785,
          2.9473,
          2.95,
          2.935,
          2.884,
          2.881,
          2.904,
          3.101,
          3.03,
          2.967,
          2.956,
          2.927,
          2.875,
          2.564,
          2.623,
          2.586,
          2.8,
          2.789,
          2.593,
          2.438,
          2.582,
          2.56,
          2.442,
          2.439,
          2.397,
          2.293,
          2.229,
          2.268,
          2.346,
          2.345,
          2.459,
          2.301,
          2.277,
          2.173,
          2.15,
          2.137,
          2.275,
          2.322,
          2.309,
          2.253,
          2.258,
          2.251,
          2.375,
          2.313,
          2.3,
          2.277,
          2.25,
          2.173,
          2.2,
          2.225,
          2.243,
          2.25,
          2.189,
          2.176,
          2.157,
          2.208,
          2.298,
          2.21,
          2.175,
          2.169,
          2.178,
          2.202,
          2.156,
          2.058,
          2.048,
          2.019,
          2.029,
          2.019,
          1.996,
          2.144,
          2.103,
          2.017,
          2.04,
          2.035,
          2.14,
          2.378,
          2.331,
          2.153,
          2.099,
          2.08,
          2.07,
          2.095,
          2.018,
          1.893,
          1.907,
          1.894,
          1.956,
          1.924,
          1.839,
          1.816,
          1.754,
          1.749,
          1.685,
          1.585,
          1.6,
          1.636,
          1.629,
          1.622,
          1.76,
          1.729,
          1.558,
          1.435,
          1.442,
          1.479,
          1.423,
          1.409,
          1.334,
          1.362,
          1.415,
          1.357,
          1.284,
          1.331,
          1.331,
          1.259,
          1.267,
          1.312,
          1.261,
          1.289,
          1.369,
          1.49,
          1.491,
          1.46,
          1.467,
          1.594,
          1.54,
          1.438,
          1.378,
          1.383,
          1.38,
          1.391,
          1.378,
          1.352,
          1.353,
          1.297,
          1.285,
          1.254,
          1.206,
          1.181,
          1.196,
          1.314,
          1.354,
          1.309,
          1.319,
          1.422,
          1.607,
          1.638,
          1.534,
          1.427,
          1.282,
          1.155,
          1.17,
          1.125,
          1.074,
          1.157,
          1.08,
          1.059,
          1.084,
          1.077,
          1.06,
          1.096,
          1.103,
          1.062,
          1.139,
          1.178,
          1.15,
          1.145
         ],
         "low": [
          0.0327,
          0.03218,
          0.03236,
          0.03375,
          0.03419,
          0.03439,
          0.03638,
          0.0358,
          0.03548,
          0.03468,
          0.03641,
          0.03653,
          0.0367,
          0.03681,
          0.04001,
          0.04017,
          0.04114,
          0.04311,
          0.04129,
          0.04197,
          0.04345,
          0.0452,
          0.0421,
          0.04135,
          0.04289,
          0.04287,
          0.044,
          0.04749,
          0.0526,
          0.05218,
          0.05215,
          0.05312,
          0.05489,
          0.05528,
          0.05395,
          0.05561,
          0.05795,
          0.0594,
          0.05703,
          0.05997,
          0.0584,
          0.0589,
          0.06336,
          0.06481,
          0.06712,
          0.06234,
          0.05669,
          0.05572,
          0.05771,
          0.05652,
          0.05515,
          0.05738,
          0.05696,
          0.0581,
          0.05729,
          0.05585,
          0.04654,
          0.0462,
          0.0465,
          0.04707,
          0.04506,
          0.04544,
          0.04743,
          0.04789,
          0.04898,
          0.04982,
          0.04815,
          0.04232,
          0.03895,
          0.04032,
          0.03729,
          0.02191,
          0.01765,
          0.02529,
          0.02546,
          0.02156,
          0.02386,
          0.02428,
          0.0258,
          0.02659,
          0.0279,
          0.02679,
          0.0266,
          0.02874,
          0.02872,
          0.02923,
          0.02828,
          0.0278,
          0.02803,
          0.02801,
          0.0295,
          0.02942,
          0.0307,
          0.03156,
          0.0317,
          0.03159,
          0.0319,
          0.0345,
          0.03522,
          0.03518,
          0.03215,
          0.03261,
          0.0329,
          0.03189,
          0.03268,
          0.03177,
          0.03089,
          0.03403,
          0.03431,
          0.03506,
          0.03382,
          0.0337,
          0.03436,
          0.03644,
          0.04084,
          0.04102,
          0.04185,
          0.04415,
          0.04595,
          0.04678,
          0.04701,
          0.04744,
          0.04941,
          0.04754,
          0.04612,
          0.04867,
          0.04863,
          0.04826,
          0.05088,
          0.05121,
          0.0425,
          0.04485,
          0.04772,
          0.0496,
          0.05039,
          0.04951,
          0.04989,
          0.05089,
          0.05113,
          0.05255,
          0.05382,
          0.05023,
          0.05133,
          0.0542,
          0.0512,
          0.05102,
          0.05189,
          0.05302,
          0.05487,
          0.06252,
          0.06373,
          0.072,
          0.07347,
          0.0708,
          0.07707,
          0.08342,
          0.08393,
          0.08475,
          0.0825,
          0.08458,
          0.08284,
          0.07938,
          0.073,
          0.07497,
          0.077,
          0.07561,
          0.0693,
          0.07656,
          0.07729,
          0.08001,
          0.07844,
          0.077,
          0.07814,
          0.07821,
          0.08152,
          0.07995,
          0.07863,
          0.07934,
          0.07453,
          0.0762,
          0.08026,
          0.08181,
          0.0824,
          0.08742,
          0.09221,
          0.09591,
          0.0942,
          0.09722,
          0.10289,
          0.1147,
          0.11744,
          0.11026,
          0.11767,
          0.12036,
          0.12078,
          0.1208,
          0.12732,
          0.11829,
          0.12163,
          0.11823,
          0.12113,
          0.11465,
          0.11671,
          0.12032,
          0.12333,
          0.12053,
          0.12195,
          0.14131,
          0.13,
          0.13399,
          0.138,
          0.13687,
          0.13552,
          0.13814,
          0.1258,
          0.132,
          0.13611,
          0.1397,
          0.13986,
          0.1327,
          0.13723,
          0.142,
          0.14162,
          0.13131,
          0.12336,
          0.13161,
          0.13739,
          0.1362,
          0.13483,
          0.13731,
          0.13374,
          0.1258,
          0.12605,
          0.1214,
          0.1182,
          0.11929,
          0.12,
          0.10485,
          0.11019,
          0.10211,
          0.10602,
          0.10799,
          0.11369,
          0.11296,
          0.11896,
          0.11031,
          0.09222,
          0.09215,
          0.0854,
          0.0855,
          0.08603,
          0.08845,
          0.08925,
          0.09318,
          0.09308,
          0.09446,
          0.09234,
          0.09293,
          0.09286,
          0.08951,
          0.09075,
          0.08963,
          0.09044,
          0.08751,
          0.077,
          0.07906,
          0.07545,
          0.07549,
          0.08233,
          0.09226,
          0.09419,
          0.09957,
          0.09735,
          0.09662,
          0.09458,
          0.08967,
          0.09208,
          0.09205,
          0.09585,
          0.09122,
          0.08934,
          0.08975,
          0.09485,
          0.10133,
          0.10415,
          0.10216,
          0.10751,
          0.10519,
          0.10441,
          0.10218,
          0.10316,
          0.10501,
          0.10598,
          0.10058,
          0.10128,
          0.10507,
          0.10515,
          0.10726,
          0.10603,
          0.09892,
          0.10178,
          0.09501,
          0.09484,
          0.08915,
          0.09196,
          0.09241,
          0.09151,
          0.08793,
          0.09155,
          0.09207,
          0.09706,
          0.09861,
          0.0997,
          0.10114,
          0.10355,
          0.10541,
          0.10254,
          0.10401,
          0.10142,
          0.0985,
          0.0995,
          0.10354,
          0.10171,
          0.10435,
          0.10549,
          0.11605,
          0.12,
          0.141,
          0.15,
          0.14702,
          0.1123,
          0.1307,
          0.13878,
          0.15712,
          0.16011,
          0.14132,
          0.15065,
          0.15532,
          0.146,
          0.14608,
          0.15301,
          0.15132,
          0.13756,
          0.12924,
          0.13906,
          0.13473,
          0.13876,
          0.1429,
          0.14953,
          0.15261,
          0.14903,
          0.16052,
          0.15821,
          0.16286,
          0.156,
          0.1468,
          0.14879,
          0.1263,
          0.13132,
          0.15006,
          0.1488,
          0.14936,
          0.1528,
          0.17304,
          0.17511,
          0.17443,
          0.17,
          0.16793,
          0.17255,
          0.19203,
          0.20696,
          0.25347,
          0.2785,
          0.26175,
          0.29583,
          0.27948,
          0.2288,
          0.2628,
          0.27,
          0.29646,
          0.27739,
          0.30186,
          0.34076,
          0.36413,
          0.362,
          0.33033,
          0.3,
          0.28,
          0.33541,
          0.33613,
          0.34034,
          0.32404,
          0.30404,
          0.30431,
          0.3305,
          0.337,
          0.338,
          0.33214,
          0.38868,
          0.41509,
          0.41003,
          0.43638,
          0.51901,
          0.58,
          0.63191,
          0.6624,
          0.70555,
          0.86513,
          0.866,
          0.82,
          0.80666,
          0.6856,
          0.83334,
          0.8215,
          0.89202,
          0.87851,
          0.91329,
          1.0675,
          0.831,
          0.81,
          0.8978,
          1.012,
          0.99,
          1.2271,
          1.154,
          1.23131,
          1.18,
          1.20865,
          1.06695,
          1.03374,
          1.08493,
          1.10562,
          1.105,
          1.11083,
          1.115,
          1.1075,
          1.02,
          0.985,
          1.0519,
          1.00001,
          1,
          1.20353,
          1.22154,
          1.18003,
          1.19978,
          1.16,
          1.067,
          1.08145,
          1.038,
          1.04584,
          1.09426,
          1.15623,
          1.1665,
          1.178,
          1.18909,
          1.151,
          1.17171,
          1.18026,
          1.15977,
          1.152,
          1.16222,
          1.1901,
          1.1588,
          1.16999,
          1.19134,
          1.19157,
          1.199,
          1.2633,
          1.28138,
          1.348,
          1.41023,
          1.334,
          1.35501,
          1.07204,
          1.17122,
          1.12685,
          1.19704,
          1.1138,
          0.92,
          1.0927,
          1.0183,
          1.0793,
          1.2232,
          1.2326,
          1.2661,
          1.2855,
          1.3128,
          1.2941,
          1.3208,
          1.2557,
          1.2598,
          1.4288,
          1.526,
          1.5611,
          1.5726,
          1.517,
          1.5954,
          1.5462,
          1.5,
          1.8112,
          1.9628,
          2.0104,
          1.9159,
          1.9712,
          1.01,
          1.3218,
          1.32,
          1.3661,
          1.051,
          1.2476,
          1.4354,
          1.552,
          1.6077,
          1.45,
          1.335,
          1.3457,
          1.5249,
          1.6531,
          1.7173,
          1.7134,
          1.608,
          1.61,
          1.6451,
          1.55,
          1.4,
          1.4827,
          1.5064,
          1.4192,
          1.3562,
          1.4001,
          1.5056,
          1.5441,
          1.474,
          1.4568,
          1.374,
          1.3834,
          1.306,
          1.1672,
          1.0001,
          1.108,
          1.2006,
          1.2431,
          1.1968,
          1.241,
          1.3042,
          1.319,
          1.2825,
          1.302,
          1.285,
          1.3579,
          1.3815,
          1.3764,
          1.3888,
          1.4,
          1.3194,
          1.2859,
          1.3158,
          1.3231,
          1.2916,
          1.25,
          1.198,
          1.205,
          1.1655,
          1.1497,
          1.1666,
          1.1156,
          1.0202,
          1.0366,
          1.1492,
          1.1465,
          1.1964,
          1.19,
          1.2221,
          1.2136,
          1.2573,
          1.256,
          1.2467,
          1.287,
          1.2984,
          1.2927,
          1.2613,
          1.323,
          1.338,
          1.3613,
          1.3945,
          1.407,
          1.3933,
          1.457,
          1.67,
          1.6792,
          1.8212,
          2.0835,
          2.03,
          2.0463,
          1.9059,
          1.87,
          2.0462,
          2.3666,
          2.3805,
          2.4306,
          2.6849,
          2.5872,
          2.6,
          2.47,
          2.494,
          2.772,
          2.719,
          2.72,
          2.702,
          2.72,
          2.834,
          2.9,
          2.8,
          2.813,
          2.8,
          2,
          2.2,
          2.39,
          2.269,
          2.367,
          2.501,
          2.309,
          2.32,
          2.355,
          2.381,
          2.313,
          2.31,
          2.259,
          1.97,
          1.9101,
          1.967,
          2.179,
          2.063,
          2.235,
          2.147,
          2.128,
          2.029,
          2.02,
          2.051,
          2.092,
          2.192,
          2.221,
          2.15,
          2.175,
          2.111,
          2.15,
          2.213,
          2.22,
          2.16,
          2.107,
          2.071,
          2.078,
          2.155,
          2.136,
          2.169,
          2.089,
          2.105,
          2.093,
          2.092,
          2.131,
          2.125,
          2.131,
          2.093,
          2.114,
          2.122,
          1.804,
          1.905,
          1.979,
          1.924,
          1.918,
          1.911,
          1.933,
          1.95,
          1.933,
          1.959,
          1.942,
          1.974,
          2.008,
          2.105,
          1.932,
          2.058,
          1.991,
          2.021,
          2.009,
          2.011,
          1.759,
          1.795,
          1.701,
          1.754,
          1.86,
          1.832,
          1.757,
          1.738,
          1.586,
          1.619,
          1.495,
          1.531,
          1.416,
          1.557,
          1.544,
          1.531,
          1.517,
          1.509,
          1.188,
          1.284,
          1.255,
          1.365,
          1.337,
          1.287,
          1.207,
          1.192,
          1.319,
          1.2,
          1.198,
          1.204,
          1.236,
          1.182,
          1.2,
          1.24,
          1.201,
          1.227,
          1.276,
          1.307,
          1.381,
          1.381,
          1.407,
          1.45,
          1.376,
          1.323,
          1.297,
          1.281,
          1.306,
          1.342,
          1.31,
          1.295,
          1.193,
          1.186,
          1.189,
          1.124,
          1.147,
          1.069,
          1.122,
          1.186,
          1.227,
          1.22,
          1.251,
          1.286,
          1.386,
          1.411,
          1.326,
          1.251,
          1.101,
          0.917,
          1.051,
          0.951,
          0.991,
          1.022,
          1.004,
          1.008,
          1.037,
          1.024,
          1.006,
          1.034,
          1.022,
          1.016,
          1.045,
          1.097,
          1.097,
          1.125
         ],
         "open": [
          0.03285,
          0.03345,
          0.03269,
          0.03417,
          0.03436,
          0.03461,
          0.03732,
          0.03696,
          0.0363,
          0.03616,
          0.03693,
          0.03673,
          0.03788,
          0.03682,
          0.04161,
          0.04277,
          0.04169,
          0.04488,
          0.04489,
          0.042,
          0.04379,
          0.04604,
          0.04575,
          0.04319,
          0.04493,
          0.04314,
          0.04479,
          0.048,
          0.05291,
          0.0533,
          0.05614,
          0.0539,
          0.05608,
          0.05572,
          0.05698,
          0.05601,
          0.05931,
          0.06011,
          0.05987,
          0.06001,
          0.06188,
          0.06027,
          0.06339,
          0.0682,
          0.06868,
          0.07071,
          0.06423,
          0.06145,
          0.0602,
          0.06279,
          0.05731,
          0.05817,
          0.05856,
          0.05819,
          0.06143,
          0.05906,
          0.05603,
          0.04915,
          0.04985,
          0.04888,
          0.04706,
          0.04559,
          0.04922,
          0.04868,
          0.04898,
          0.05096,
          0.05171,
          0.04876,
          0.04291,
          0.04151,
          0.04145,
          0.0397,
          0.02332,
          0.02844,
          0.02577,
          0.02692,
          0.02424,
          0.02573,
          0.02608,
          0.03029,
          0.02945,
          0.02945,
          0.02704,
          0.02923,
          0.03025,
          0.02947,
          0.03085,
          0.02882,
          0.02979,
          0.02808,
          0.02965,
          0.03045,
          0.03097,
          0.03187,
          0.03231,
          0.03244,
          0.03191,
          0.03591,
          0.03528,
          0.03638,
          0.03609,
          0.03322,
          0.03341,
          0.03345,
          0.03311,
          0.03311,
          0.03184,
          0.03445,
          0.03432,
          0.03657,
          0.03549,
          0.0339,
          0.03451,
          0.03663,
          0.04086,
          0.04165,
          0.04222,
          0.04594,
          0.04646,
          0.04679,
          0.05148,
          0.04751,
          0.05092,
          0.05095,
          0.04897,
          0.04943,
          0.04949,
          0.0489,
          0.05121,
          0.05201,
          0.05145,
          0.04758,
          0.04778,
          0.05043,
          0.05147,
          0.05098,
          0.05031,
          0.051,
          0.05128,
          0.05433,
          0.05675,
          0.05686,
          0.0521,
          0.05576,
          0.0549,
          0.05129,
          0.05394,
          0.05356,
          0.05512,
          0.06495,
          0.06469,
          0.07688,
          0.07391,
          0.08096,
          0.07872,
          0.08558,
          0.08882,
          0.08519,
          0.08616,
          0.08655,
          0.08649,
          0.08292,
          0.0836,
          0.07527,
          0.07948,
          0.07909,
          0.07644,
          0.07822,
          0.07925,
          0.0835,
          0.08177,
          0.07993,
          0.07956,
          0.07839,
          0.08359,
          0.08278,
          0.08251,
          0.08166,
          0.08063,
          0.07738,
          0.08026,
          0.08394,
          0.083,
          0.09685,
          0.09291,
          0.09652,
          0.10005,
          0.09815,
          0.10512,
          0.11764,
          0.12992,
          0.12401,
          0.11843,
          0.12519,
          0.12689,
          0.12426,
          0.13254,
          0.13071,
          0.12605,
          0.12224,
          0.12267,
          0.12401,
          0.11772,
          0.1232,
          0.12385,
          0.1242,
          0.122,
          0.14368,
          0.14847,
          0.13861,
          0.14904,
          0.13976,
          0.14056,
          0.13876,
          0.14415,
          0.13381,
          0.13735,
          0.14333,
          0.14229,
          0.14441,
          0.13891,
          0.14695,
          0.14512,
          0.14376,
          0.13685,
          0.1367,
          0.13943,
          0.13826,
          0.13838,
          0.13882,
          0.14039,
          0.13686,
          0.12964,
          0.1342,
          0.12314,
          0.12516,
          0.12146,
          0.12359,
          0.11239,
          0.11431,
          0.10726,
          0.10926,
          0.11624,
          0.11742,
          0.1225,
          0.12444,
          0.1149,
          0.09448,
          0.1016,
          0.08998,
          0.09266,
          0.09365,
          0.09105,
          0.09329,
          0.09704,
          0.09696,
          0.09769,
          0.09509,
          0.09659,
          0.09309,
          0.09151,
          0.09405,
          0.09092,
          0.09139,
          0.08936,
          0.07989,
          0.08148,
          0.07663,
          0.08254,
          0.09691,
          0.09541,
          0.10132,
          0.10026,
          0.1011,
          0.10136,
          0.09803,
          0.09285,
          0.09332,
          0.09684,
          0.0974,
          0.09287,
          0.09372,
          0.09632,
          0.10133,
          0.10488,
          0.10652,
          0.10951,
          0.10927,
          0.10703,
          0.10664,
          0.10415,
          0.10589,
          0.10737,
          0.10856,
          0.10237,
          0.10585,
          0.11075,
          0.10801,
          0.10795,
          0.1064,
          0.103,
          0.10254,
          0.09872,
          0.09527,
          0.09326,
          0.09296,
          0.09827,
          0.09222,
          0.0936,
          0.09553,
          0.09749,
          0.10912,
          0.10131,
          0.10652,
          0.10555,
          0.1059,
          0.10597,
          0.10462,
          0.10633,
          0.10411,
          0.10045,
          0.10387,
          0.10944,
          0.10662,
          0.1059,
          0.11826,
          0.13335,
          0.14593,
          0.15451,
          0.16722,
          0.15474,
          0.13835,
          0.14178,
          0.16487,
          0.16666,
          0.17207,
          0.15554,
          0.15841,
          0.16395,
          0.14779,
          0.15996,
          0.15875,
          0.15401,
          0.14117,
          0.14796,
          0.14188,
          0.13927,
          0.14439,
          0.15404,
          0.15877,
          0.15385,
          0.16806,
          0.16339,
          0.16502,
          0.16421,
          0.16196,
          0.15279,
          0.15645,
          0.13631,
          0.15305,
          0.15763,
          0.15839,
          0.15467,
          0.1763,
          0.19069,
          0.18389,
          0.18134,
          0.17505,
          0.1774,
          0.20625,
          0.22518,
          0.25889,
          0.33311,
          0.29917,
          0.30392,
          0.33062,
          0.30154,
          0.27563,
          0.28875,
          0.31246,
          0.31203,
          0.30189,
          0.35057,
          0.38077,
          0.37132,
          0.3672,
          0.37548,
          0.30786,
          0.34842,
          0.34575,
          0.35346,
          0.34284,
          0.34342,
          0.31142,
          0.34409,
          0.34764,
          0.36395,
          0.34464,
          0.40882,
          0.425,
          0.44213,
          0.43903,
          0.53874,
          0.63444,
          0.66109,
          0.67674,
          0.70562,
          0.94041,
          0.9281,
          0.92418,
          0.91303,
          0.84288,
          0.86128,
          0.8699,
          0.89206,
          0.91433,
          0.92597,
          1.1156,
          1.09955,
          1.09728,
          0.96136,
          1.04883,
          1.07688,
          1.24353,
          1.314,
          1.31279,
          1.29678,
          1.22281,
          1.21315,
          1.11261,
          1.15907,
          1.12901,
          1.13073,
          1.11836,
          1.19734,
          1.13226,
          1.12417,
          1.03207,
          1.10016,
          1.05241,
          1.03071,
          1.24974,
          1.3775,
          1.22966,
          1.29499,
          1.20048,
          1.18561,
          1.1015,
          1.11563,
          1.06879,
          1.09596,
          1.21419,
          1.17646,
          1.18983,
          1.2024,
          1.212,
          1.19172,
          1.1833,
          1.18998,
          1.16245,
          1.18205,
          1.21172,
          1.25217,
          1.17356,
          1.21896,
          1.20201,
          1.21753,
          1.26376,
          1.31452,
          1.41246,
          1.4514,
          1.47845,
          1.40989,
          1.36861,
          1.27655,
          1.19451,
          1.26665,
          1.20312,
          1.14443,
          1.15872,
          1.103,
          1.091,
          1.2377,
          1.3063,
          1.3373,
          1.3066,
          1.353,
          1.3516,
          1.3267,
          1.3627,
          1.2699,
          1.4799,
          1.6491,
          1.6529,
          1.6206,
          1.7662,
          1.6418,
          1.7633,
          1.5669,
          1.9289,
          2.0073,
          2.1754,
          2.3002,
          2.0301,
          2.0036,
          1.4676,
          1.8002,
          1.5493,
          1.4636,
          1.3135,
          1.5497,
          1.5525,
          1.7788,
          1.6552,
          1.5133,
          1.4035,
          1.5751,
          1.7376,
          1.7362,
          1.7534,
          1.8454,
          1.708,
          1.6555,
          1.6771,
          1.5659,
          1.5818,
          1.6282,
          1.5328,
          1.4368,
          1.4789,
          1.5563,
          1.5769,
          1.555,
          1.4851,
          1.4825,
          1.4164,
          1.384,
          1.4262,
          1.1738,
          1.1563,
          1.2513,
          1.3604,
          1.252,
          1.252,
          1.3379,
          1.3261,
          1.3731,
          1.3853,
          1.3312,
          1.3947,
          1.4045,
          1.4615,
          1.4039,
          1.4156,
          1.404,
          1.3268,
          1.3504,
          1.3356,
          1.3485,
          1.3126,
          1.2649,
          1.2634,
          1.2258,
          1.1705,
          1.1721,
          1.1814,
          1.1226,
          1.0541,
          1.1711,
          1.1857,
          1.2075,
          1.2332,
          1.2283,
          1.2549,
          1.2797,
          1.2875,
          1.2856,
          1.3109,
          1.3193,
          1.3145,
          1.3082,
          1.3697,
          1.3766,
          1.3859,
          1.4027,
          1.4726,
          1.4256,
          1.4745,
          1.678,
          1.7934,
          1.833,
          2.1386,
          2.1875,
          2.1667,
          2.0717,
          1.924,
          2.1045,
          2.4411,
          2.4557,
          2.4347,
          2.705,
          2.9152,
          2.7191,
          2.7389,
          2.529,
          2.947,
          2.847,
          2.85,
          2.735,
          2.768,
          2.87,
          2.96,
          2.965,
          2.831,
          2.911,
          2.833,
          2.514,
          2.47,
          2.518,
          2.384,
          2.637,
          2.58,
          2.401,
          2.396,
          2.504,
          2.417,
          2.35,
          2.371,
          2.283,
          2.08,
          1.986,
          2.257,
          2.327,
          2.277,
          2.299,
          2.206,
          2.129,
          2.037,
          2.066,
          2.115,
          2.255,
          2.247,
          2.251,
          2.191,
          2.232,
          2.209,
          2.278,
          2.238,
          2.269,
          2.189,
          2.171,
          2.117,
          2.189,
          2.172,
          2.217,
          2.178,
          2.158,
          2.127,
          2.11,
          2.19,
          2.136,
          2.157,
          2.167,
          2.119,
          2.145,
          2.138,
          1.912,
          1.987,
          2.016,
          1.957,
          1.965,
          1.949,
          1.971,
          2.063,
          1.983,
          1.982,
          2.004,
          2.02,
          2.126,
          2.269,
          2.097,
          2.079,
          2.046,
          2.05,
          2.04,
          2.018,
          1.874,
          1.877,
          1.786,
          1.862,
          1.921,
          1.835,
          1.776,
          1.751,
          1.665,
          1.676,
          1.532,
          1.543,
          1.595,
          1.602,
          1.553,
          1.547,
          1.72,
          1.557,
          1.419,
          1.378,
          1.42,
          1.378,
          1.396,
          1.288,
          1.211,
          1.354,
          1.345,
          1.223,
          1.267,
          1.311,
          1.24,
          1.218,
          1.242,
          1.244,
          1.238,
          1.279,
          1.327,
          1.475,
          1.393,
          1.453,
          1.455,
          1.516,
          1.4,
          1.333,
          1.359,
          1.308,
          1.379,
          1.378,
          1.319,
          1.31,
          1.23,
          1.279,
          1.209,
          1.182,
          1.17,
          1.123,
          1.188,
          1.312,
          1.232,
          1.293,
          1.292,
          1.411,
          1.602,
          1.458,
          1.336,
          1.259,
          1.12,
          1.071,
          1.124,
          1.066,
          1.043,
          1.078,
          1.042,
          1.049,
          1.059,
          1.035,
          1.052,
          1.096,
          1.027,
          1.061,
          1.138,
          1.125,
          1.142
         ],
         "type": "candlestick",
         "x": [
          "2020-01-01T00:00:00",
          "2020-01-02T00:00:00",
          "2020-01-03T00:00:00",
          "2020-01-04T00:00:00",
          "2020-01-05T00:00:00",
          "2020-01-06T00:00:00",
          "2020-01-07T00:00:00",
          "2020-01-08T00:00:00",
          "2020-01-09T00:00:00",
          "2020-01-10T00:00:00",
          "2020-01-11T00:00:00",
          "2020-01-12T00:00:00",
          "2020-01-13T00:00:00",
          "2020-01-14T00:00:00",
          "2020-01-15T00:00:00",
          "2020-01-16T00:00:00",
          "2020-01-17T00:00:00",
          "2020-01-18T00:00:00",
          "2020-01-19T00:00:00",
          "2020-01-20T00:00:00",
          "2020-01-21T00:00:00",
          "2020-01-22T00:00:00",
          "2020-01-23T00:00:00",
          "2020-01-24T00:00:00",
          "2020-01-25T00:00:00",
          "2020-01-26T00:00:00",
          "2020-01-27T00:00:00",
          "2020-01-28T00:00:00",
          "2020-01-29T00:00:00",
          "2020-01-30T00:00:00",
          "2020-01-31T00:00:00",
          "2020-02-01T00:00:00",
          "2020-02-02T00:00:00",
          "2020-02-03T00:00:00",
          "2020-02-04T00:00:00",
          "2020-02-05T00:00:00",
          "2020-02-06T00:00:00",
          "2020-02-07T00:00:00",
          "2020-02-08T00:00:00",
          "2020-02-09T00:00:00",
          "2020-02-10T00:00:00",
          "2020-02-11T00:00:00",
          "2020-02-12T00:00:00",
          "2020-02-13T00:00:00",
          "2020-02-14T00:00:00",
          "2020-02-15T00:00:00",
          "2020-02-16T00:00:00",
          "2020-02-17T00:00:00",
          "2020-02-18T00:00:00",
          "2020-02-19T00:00:00",
          "2020-02-20T00:00:00",
          "2020-02-21T00:00:00",
          "2020-02-22T00:00:00",
          "2020-02-23T00:00:00",
          "2020-02-24T00:00:00",
          "2020-02-25T00:00:00",
          "2020-02-26T00:00:00",
          "2020-02-27T00:00:00",
          "2020-02-28T00:00:00",
          "2020-02-29T00:00:00",
          "2020-03-01T00:00:00",
          "2020-03-02T00:00:00",
          "2020-03-03T00:00:00",
          "2020-03-04T00:00:00",
          "2020-03-05T00:00:00",
          "2020-03-06T00:00:00",
          "2020-03-07T00:00:00",
          "2020-03-08T00:00:00",
          "2020-03-09T00:00:00",
          "2020-03-10T00:00:00",
          "2020-03-11T00:00:00",
          "2020-03-12T00:00:00",
          "2020-03-13T00:00:00",
          "2020-03-14T00:00:00",
          "2020-03-15T00:00:00",
          "2020-03-16T00:00:00",
          "2020-03-17T00:00:00",
          "2020-03-18T00:00:00",
          "2020-03-19T00:00:00",
          "2020-03-20T00:00:00",
          "2020-03-21T00:00:00",
          "2020-03-22T00:00:00",
          "2020-03-23T00:00:00",
          "2020-03-24T00:00:00",
          "2020-03-25T00:00:00",
          "2020-03-26T00:00:00",
          "2020-03-27T00:00:00",
          "2020-03-28T00:00:00",
          "2020-03-29T00:00:00",
          "2020-03-30T00:00:00",
          "2020-03-31T00:00:00",
          "2020-04-01T00:00:00",
          "2020-04-02T00:00:00",
          "2020-04-03T00:00:00",
          "2020-04-04T00:00:00",
          "2020-04-05T00:00:00",
          "2020-04-06T00:00:00",
          "2020-04-07T00:00:00",
          "2020-04-08T00:00:00",
          "2020-04-09T00:00:00",
          "2020-04-10T00:00:00",
          "2020-04-11T00:00:00",
          "2020-04-12T00:00:00",
          "2020-04-13T00:00:00",
          "2020-04-14T00:00:00",
          "2020-04-15T00:00:00",
          "2020-04-16T00:00:00",
          "2020-04-17T00:00:00",
          "2020-04-18T00:00:00",
          "2020-04-19T00:00:00",
          "2020-04-20T00:00:00",
          "2020-04-21T00:00:00",
          "2020-04-22T00:00:00",
          "2020-04-23T00:00:00",
          "2020-04-24T00:00:00",
          "2020-04-25T00:00:00",
          "2020-04-26T00:00:00",
          "2020-04-27T00:00:00",
          "2020-04-28T00:00:00",
          "2020-04-29T00:00:00",
          "2020-04-30T00:00:00",
          "2020-05-01T00:00:00",
          "2020-05-02T00:00:00",
          "2020-05-03T00:00:00",
          "2020-05-04T00:00:00",
          "2020-05-05T00:00:00",
          "2020-05-06T00:00:00",
          "2020-05-07T00:00:00",
          "2020-05-08T00:00:00",
          "2020-05-09T00:00:00",
          "2020-05-10T00:00:00",
          "2020-05-11T00:00:00",
          "2020-05-12T00:00:00",
          "2020-05-13T00:00:00",
          "2020-05-14T00:00:00",
          "2020-05-15T00:00:00",
          "2020-05-16T00:00:00",
          "2020-05-17T00:00:00",
          "2020-05-18T00:00:00",
          "2020-05-19T00:00:00",
          "2020-05-20T00:00:00",
          "2020-05-21T00:00:00",
          "2020-05-22T00:00:00",
          "2020-05-23T00:00:00",
          "2020-05-24T00:00:00",
          "2020-05-25T00:00:00",
          "2020-05-26T00:00:00",
          "2020-05-27T00:00:00",
          "2020-05-28T00:00:00",
          "2020-05-29T00:00:00",
          "2020-05-30T00:00:00",
          "2020-05-31T00:00:00",
          "2020-06-01T00:00:00",
          "2020-06-02T00:00:00",
          "2020-06-03T00:00:00",
          "2020-06-04T00:00:00",
          "2020-06-05T00:00:00",
          "2020-06-06T00:00:00",
          "2020-06-07T00:00:00",
          "2020-06-08T00:00:00",
          "2020-06-09T00:00:00",
          "2020-06-10T00:00:00",
          "2020-06-11T00:00:00",
          "2020-06-12T00:00:00",
          "2020-06-13T00:00:00",
          "2020-06-14T00:00:00",
          "2020-06-15T00:00:00",
          "2020-06-16T00:00:00",
          "2020-06-17T00:00:00",
          "2020-06-18T00:00:00",
          "2020-06-19T00:00:00",
          "2020-06-20T00:00:00",
          "2020-06-21T00:00:00",
          "2020-06-22T00:00:00",
          "2020-06-23T00:00:00",
          "2020-06-24T00:00:00",
          "2020-06-25T00:00:00",
          "2020-06-26T00:00:00",
          "2020-06-27T00:00:00",
          "2020-06-28T00:00:00",
          "2020-06-29T00:00:00",
          "2020-06-30T00:00:00",
          "2020-07-01T00:00:00",
          "2020-07-02T00:00:00",
          "2020-07-03T00:00:00",
          "2020-07-04T00:00:00",
          "2020-07-05T00:00:00",
          "2020-07-06T00:00:00",
          "2020-07-07T00:00:00",
          "2020-07-08T00:00:00",
          "2020-07-09T00:00:00",
          "2020-07-10T00:00:00",
          "2020-07-11T00:00:00",
          "2020-07-12T00:00:00",
          "2020-07-13T00:00:00",
          "2020-07-14T00:00:00",
          "2020-07-15T00:00:00",
          "2020-07-16T00:00:00",
          "2020-07-17T00:00:00",
          "2020-07-18T00:00:00",
          "2020-07-19T00:00:00",
          "2020-07-20T00:00:00",
          "2020-07-21T00:00:00",
          "2020-07-22T00:00:00",
          "2020-07-23T00:00:00",
          "2020-07-24T00:00:00",
          "2020-07-25T00:00:00",
          "2020-07-26T00:00:00",
          "2020-07-27T00:00:00",
          "2020-07-28T00:00:00",
          "2020-07-29T00:00:00",
          "2020-07-30T00:00:00",
          "2020-07-31T00:00:00",
          "2020-08-01T00:00:00",
          "2020-08-02T00:00:00",
          "2020-08-03T00:00:00",
          "2020-08-04T00:00:00",
          "2020-08-05T00:00:00",
          "2020-08-06T00:00:00",
          "2020-08-07T00:00:00",
          "2020-08-08T00:00:00",
          "2020-08-09T00:00:00",
          "2020-08-10T00:00:00",
          "2020-08-11T00:00:00",
          "2020-08-12T00:00:00",
          "2020-08-13T00:00:00",
          "2020-08-14T00:00:00",
          "2020-08-15T00:00:00",
          "2020-08-16T00:00:00",
          "2020-08-17T00:00:00",
          "2020-08-18T00:00:00",
          "2020-08-19T00:00:00",
          "2020-08-20T00:00:00",
          "2020-08-21T00:00:00",
          "2020-08-22T00:00:00",
          "2020-08-23T00:00:00",
          "2020-08-24T00:00:00",
          "2020-08-25T00:00:00",
          "2020-08-26T00:00:00",
          "2020-08-27T00:00:00",
          "2020-08-28T00:00:00",
          "2020-08-29T00:00:00",
          "2020-08-30T00:00:00",
          "2020-08-31T00:00:00",
          "2020-09-01T00:00:00",
          "2020-09-02T00:00:00",
          "2020-09-03T00:00:00",
          "2020-09-04T00:00:00",
          "2020-09-05T00:00:00",
          "2020-09-06T00:00:00",
          "2020-09-07T00:00:00",
          "2020-09-08T00:00:00",
          "2020-09-09T00:00:00",
          "2020-09-10T00:00:00",
          "2020-09-11T00:00:00",
          "2020-09-12T00:00:00",
          "2020-09-13T00:00:00",
          "2020-09-14T00:00:00",
          "2020-09-15T00:00:00",
          "2020-09-16T00:00:00",
          "2020-09-17T00:00:00",
          "2020-09-18T00:00:00",
          "2020-09-19T00:00:00",
          "2020-09-20T00:00:00",
          "2020-09-21T00:00:00",
          "2020-09-22T00:00:00",
          "2020-09-23T00:00:00",
          "2020-09-24T00:00:00",
          "2020-09-25T00:00:00",
          "2020-09-26T00:00:00",
          "2020-09-27T00:00:00",
          "2020-09-28T00:00:00",
          "2020-09-29T00:00:00",
          "2020-09-30T00:00:00",
          "2020-10-01T00:00:00",
          "2020-10-02T00:00:00",
          "2020-10-03T00:00:00",
          "2020-10-04T00:00:00",
          "2020-10-05T00:00:00",
          "2020-10-06T00:00:00",
          "2020-10-07T00:00:00",
          "2020-10-08T00:00:00",
          "2020-10-09T00:00:00",
          "2020-10-10T00:00:00",
          "2020-10-11T00:00:00",
          "2020-10-12T00:00:00",
          "2020-10-13T00:00:00",
          "2020-10-14T00:00:00",
          "2020-10-15T00:00:00",
          "2020-10-16T00:00:00",
          "2020-10-17T00:00:00",
          "2020-10-18T00:00:00",
          "2020-10-19T00:00:00",
          "2020-10-20T00:00:00",
          "2020-10-21T00:00:00",
          "2020-10-22T00:00:00",
          "2020-10-23T00:00:00",
          "2020-10-24T00:00:00",
          "2020-10-25T00:00:00",
          "2020-10-26T00:00:00",
          "2020-10-27T00:00:00",
          "2020-10-28T00:00:00",
          "2020-10-29T00:00:00",
          "2020-10-30T00:00:00",
          "2020-10-31T00:00:00",
          "2020-11-01T00:00:00",
          "2020-11-02T00:00:00",
          "2020-11-03T00:00:00",
          "2020-11-04T00:00:00",
          "2020-11-05T00:00:00",
          "2020-11-06T00:00:00",
          "2020-11-07T00:00:00",
          "2020-11-08T00:00:00",
          "2020-11-09T00:00:00",
          "2020-11-10T00:00:00",
          "2020-11-11T00:00:00",
          "2020-11-12T00:00:00",
          "2020-11-13T00:00:00",
          "2020-11-14T00:00:00",
          "2020-11-15T00:00:00",
          "2020-11-16T00:00:00",
          "2020-11-17T00:00:00",
          "2020-11-18T00:00:00",
          "2020-11-19T00:00:00",
          "2020-11-20T00:00:00",
          "2020-11-21T00:00:00",
          "2020-11-22T00:00:00",
          "2020-11-23T00:00:00",
          "2020-11-24T00:00:00",
          "2020-11-25T00:00:00",
          "2020-11-26T00:00:00",
          "2020-11-27T00:00:00",
          "2020-11-28T00:00:00",
          "2020-11-29T00:00:00",
          "2020-11-30T00:00:00",
          "2020-12-01T00:00:00",
          "2020-12-02T00:00:00",
          "2020-12-03T00:00:00",
          "2020-12-04T00:00:00",
          "2020-12-05T00:00:00",
          "2020-12-06T00:00:00",
          "2020-12-07T00:00:00",
          "2020-12-08T00:00:00",
          "2020-12-09T00:00:00",
          "2020-12-10T00:00:00",
          "2020-12-11T00:00:00",
          "2020-12-12T00:00:00",
          "2020-12-13T00:00:00",
          "2020-12-14T00:00:00",
          "2020-12-15T00:00:00",
          "2020-12-16T00:00:00",
          "2020-12-17T00:00:00",
          "2020-12-18T00:00:00",
          "2020-12-19T00:00:00",
          "2020-12-20T00:00:00",
          "2020-12-21T00:00:00",
          "2020-12-22T00:00:00",
          "2020-12-23T00:00:00",
          "2020-12-24T00:00:00",
          "2020-12-25T00:00:00",
          "2020-12-26T00:00:00",
          "2020-12-27T00:00:00",
          "2020-12-28T00:00:00",
          "2020-12-29T00:00:00",
          "2020-12-30T00:00:00",
          "2020-12-31T00:00:00",
          "2021-01-01T00:00:00",
          "2021-01-02T00:00:00",
          "2021-01-03T00:00:00",
          "2021-01-04T00:00:00",
          "2021-01-05T00:00:00",
          "2021-01-06T00:00:00",
          "2021-01-07T00:00:00",
          "2021-01-08T00:00:00",
          "2021-01-09T00:00:00",
          "2021-01-10T00:00:00",
          "2021-01-11T00:00:00",
          "2021-01-12T00:00:00",
          "2021-01-13T00:00:00",
          "2021-01-14T00:00:00",
          "2021-01-15T00:00:00",
          "2021-01-16T00:00:00",
          "2021-01-17T00:00:00",
          "2021-01-18T00:00:00",
          "2021-01-19T00:00:00",
          "2021-01-20T00:00:00",
          "2021-01-21T00:00:00",
          "2021-01-22T00:00:00",
          "2021-01-23T00:00:00",
          "2021-01-24T00:00:00",
          "2021-01-25T00:00:00",
          "2021-01-26T00:00:00",
          "2021-01-27T00:00:00",
          "2021-01-28T00:00:00",
          "2021-01-29T00:00:00",
          "2021-01-30T00:00:00",
          "2021-01-31T00:00:00",
          "2021-02-01T00:00:00",
          "2021-02-02T00:00:00",
          "2021-02-03T00:00:00",
          "2021-02-04T00:00:00",
          "2021-02-05T00:00:00",
          "2021-02-06T00:00:00",
          "2021-02-07T00:00:00",
          "2021-02-08T00:00:00",
          "2021-02-09T00:00:00",
          "2021-02-10T00:00:00",
          "2021-02-11T00:00:00",
          "2021-02-12T00:00:00",
          "2021-02-13T00:00:00",
          "2021-02-14T00:00:00",
          "2021-02-15T00:00:00",
          "2021-02-16T00:00:00",
          "2021-02-17T00:00:00",
          "2021-02-18T00:00:00",
          "2021-02-19T00:00:00",
          "2021-02-20T00:00:00",
          "2021-02-21T00:00:00",
          "2021-02-22T00:00:00",
          "2021-02-23T00:00:00",
          "2021-02-24T00:00:00",
          "2021-02-25T00:00:00",
          "2021-02-26T00:00:00",
          "2021-02-27T00:00:00",
          "2021-02-28T00:00:00",
          "2021-03-01T00:00:00",
          "2021-03-02T00:00:00",
          "2021-03-03T00:00:00",
          "2021-03-04T00:00:00",
          "2021-03-05T00:00:00",
          "2021-03-06T00:00:00",
          "2021-03-07T00:00:00",
          "2021-03-08T00:00:00",
          "2021-03-09T00:00:00",
          "2021-03-10T00:00:00",
          "2021-03-11T00:00:00",
          "2021-03-12T00:00:00",
          "2021-03-13T00:00:00",
          "2021-03-14T00:00:00",
          "2021-03-15T00:00:00",
          "2021-03-16T00:00:00",
          "2021-03-17T00:00:00",
          "2021-03-18T00:00:00",
          "2021-03-19T00:00:00",
          "2021-03-20T00:00:00",
          "2021-03-21T00:00:00",
          "2021-03-22T00:00:00",
          "2021-03-23T00:00:00",
          "2021-03-24T00:00:00",
          "2021-03-25T00:00:00",
          "2021-03-26T00:00:00",
          "2021-03-27T00:00:00",
          "2021-03-28T00:00:00",
          "2021-03-29T00:00:00",
          "2021-03-30T00:00:00",
          "2021-03-31T00:00:00",
          "2021-04-01T00:00:00",
          "2021-04-02T00:00:00",
          "2021-04-03T00:00:00",
          "2021-04-04T00:00:00",
          "2021-04-05T00:00:00",
          "2021-04-06T00:00:00",
          "2021-04-07T00:00:00",
          "2021-04-08T00:00:00",
          "2021-04-09T00:00:00",
          "2021-04-10T00:00:00",
          "2021-04-11T00:00:00",
          "2021-04-12T00:00:00",
          "2021-04-13T00:00:00",
          "2021-04-14T00:00:00",
          "2021-04-15T00:00:00",
          "2021-04-16T00:00:00",
          "2021-04-17T00:00:00",
          "2021-04-18T00:00:00",
          "2021-04-19T00:00:00",
          "2021-04-20T00:00:00",
          "2021-04-21T00:00:00",
          "2021-04-22T00:00:00",
          "2021-04-23T00:00:00",
          "2021-04-24T00:00:00",
          "2021-04-25T00:00:00",
          "2021-04-26T00:00:00",
          "2021-04-27T00:00:00",
          "2021-04-28T00:00:00",
          "2021-04-29T00:00:00",
          "2021-04-30T00:00:00",
          "2021-05-01T00:00:00",
          "2021-05-02T00:00:00",
          "2021-05-03T00:00:00",
          "2021-05-04T00:00:00",
          "2021-05-05T00:00:00",
          "2021-05-06T00:00:00",
          "2021-05-07T00:00:00",
          "2021-05-08T00:00:00",
          "2021-05-09T00:00:00",
          "2021-05-10T00:00:00",
          "2021-05-11T00:00:00",
          "2021-05-12T00:00:00",
          "2021-05-13T00:00:00",
          "2021-05-14T00:00:00",
          "2021-05-15T00:00:00",
          "2021-05-16T00:00:00",
          "2021-05-17T00:00:00",
          "2021-05-18T00:00:00",
          "2021-05-19T00:00:00",
          "2021-05-20T00:00:00",
          "2021-05-21T00:00:00",
          "2021-05-22T00:00:00",
          "2021-05-23T00:00:00",
          "2021-05-24T00:00:00",
          "2021-05-25T00:00:00",
          "2021-05-26T00:00:00",
          "2021-05-27T00:00:00",
          "2021-05-28T00:00:00",
          "2021-05-29T00:00:00",
          "2021-05-30T00:00:00",
          "2021-05-31T00:00:00",
          "2021-06-01T00:00:00",
          "2021-06-02T00:00:00",
          "2021-06-03T00:00:00",
          "2021-06-04T00:00:00",
          "2021-06-05T00:00:00",
          "2021-06-06T00:00:00",
          "2021-06-07T00:00:00",
          "2021-06-08T00:00:00",
          "2021-06-09T00:00:00",
          "2021-06-10T00:00:00",
          "2021-06-11T00:00:00",
          "2021-06-12T00:00:00",
          "2021-06-13T00:00:00",
          "2021-06-14T00:00:00",
          "2021-06-15T00:00:00",
          "2021-06-16T00:00:00",
          "2021-06-17T00:00:00",
          "2021-06-18T00:00:00",
          "2021-06-19T00:00:00",
          "2021-06-20T00:00:00",
          "2021-06-21T00:00:00",
          "2021-06-22T00:00:00",
          "2021-06-23T00:00:00",
          "2021-06-24T00:00:00",
          "2021-06-25T00:00:00",
          "2021-06-26T00:00:00",
          "2021-06-27T00:00:00",
          "2021-06-28T00:00:00",
          "2021-06-29T00:00:00",
          "2021-06-30T00:00:00",
          "2021-07-01T00:00:00",
          "2021-07-02T00:00:00",
          "2021-07-03T00:00:00",
          "2021-07-04T00:00:00",
          "2021-07-05T00:00:00",
          "2021-07-06T00:00:00",
          "2021-07-07T00:00:00",
          "2021-07-08T00:00:00",
          "2021-07-09T00:00:00",
          "2021-07-10T00:00:00",
          "2021-07-11T00:00:00",
          "2021-07-12T00:00:00",
          "2021-07-13T00:00:00",
          "2021-07-14T00:00:00",
          "2021-07-15T00:00:00",
          "2021-07-16T00:00:00",
          "2021-07-17T00:00:00",
          "2021-07-18T00:00:00",
          "2021-07-19T00:00:00",
          "2021-07-20T00:00:00",
          "2021-07-21T00:00:00",
          "2021-07-22T00:00:00",
          "2021-07-23T00:00:00",
          "2021-07-24T00:00:00",
          "2021-07-25T00:00:00",
          "2021-07-26T00:00:00",
          "2021-07-27T00:00:00",
          "2021-07-28T00:00:00",
          "2021-07-29T00:00:00",
          "2021-07-30T00:00:00",
          "2021-07-31T00:00:00",
          "2021-08-01T00:00:00",
          "2021-08-02T00:00:00",
          "2021-08-03T00:00:00",
          "2021-08-04T00:00:00",
          "2021-08-05T00:00:00",
          "2021-08-06T00:00:00",
          "2021-08-07T00:00:00",
          "2021-08-08T00:00:00",
          "2021-08-09T00:00:00",
          "2021-08-10T00:00:00",
          "2021-08-11T00:00:00",
          "2021-08-12T00:00:00",
          "2021-08-13T00:00:00",
          "2021-08-14T00:00:00",
          "2021-08-15T00:00:00",
          "2021-08-16T00:00:00",
          "2021-08-17T00:00:00",
          "2021-08-18T00:00:00",
          "2021-08-19T00:00:00",
          "2021-08-20T00:00:00",
          "2021-08-21T00:00:00",
          "2021-08-22T00:00:00",
          "2021-08-23T00:00:00",
          "2021-08-24T00:00:00",
          "2021-08-25T00:00:00",
          "2021-08-26T00:00:00",
          "2021-08-27T00:00:00",
          "2021-08-28T00:00:00",
          "2021-08-29T00:00:00",
          "2021-08-30T00:00:00",
          "2021-08-31T00:00:00",
          "2021-09-01T00:00:00",
          "2021-09-02T00:00:00",
          "2021-09-03T00:00:00",
          "2021-09-04T00:00:00",
          "2021-09-05T00:00:00",
          "2021-09-06T00:00:00",
          "2021-09-07T00:00:00",
          "2021-09-08T00:00:00",
          "2021-09-09T00:00:00",
          "2021-09-10T00:00:00",
          "2021-09-11T00:00:00",
          "2021-09-12T00:00:00",
          "2021-09-13T00:00:00",
          "2021-09-14T00:00:00",
          "2021-09-15T00:00:00",
          "2021-09-16T00:00:00",
          "2021-09-17T00:00:00",
          "2021-09-18T00:00:00",
          "2021-09-19T00:00:00",
          "2021-09-20T00:00:00",
          "2021-09-21T00:00:00",
          "2021-09-22T00:00:00",
          "2021-09-23T00:00:00",
          "2021-09-24T00:00:00",
          "2021-09-25T00:00:00",
          "2021-09-26T00:00:00",
          "2021-09-27T00:00:00",
          "2021-09-28T00:00:00",
          "2021-09-29T00:00:00",
          "2021-09-30T00:00:00",
          "2021-10-01T00:00:00",
          "2021-10-02T00:00:00",
          "2021-10-03T00:00:00",
          "2021-10-04T00:00:00",
          "2021-10-05T00:00:00",
          "2021-10-06T00:00:00",
          "2021-10-07T00:00:00",
          "2021-10-08T00:00:00",
          "2021-10-09T00:00:00",
          "2021-10-10T00:00:00",
          "2021-10-11T00:00:00",
          "2021-10-12T00:00:00",
          "2021-10-13T00:00:00",
          "2021-10-14T00:00:00",
          "2021-10-15T00:00:00",
          "2021-10-16T00:00:00",
          "2021-10-17T00:00:00",
          "2021-10-18T00:00:00",
          "2021-10-19T00:00:00",
          "2021-10-20T00:00:00",
          "2021-10-21T00:00:00",
          "2021-10-22T00:00:00",
          "2021-10-23T00:00:00",
          "2021-10-24T00:00:00",
          "2021-10-25T00:00:00",
          "2021-10-26T00:00:00",
          "2021-10-27T00:00:00",
          "2021-10-28T00:00:00",
          "2021-10-29T00:00:00",
          "2021-10-30T00:00:00",
          "2021-10-31T00:00:00",
          "2021-11-01T00:00:00",
          "2021-11-02T00:00:00",
          "2021-11-03T00:00:00",
          "2021-11-04T00:00:00",
          "2021-11-05T00:00:00",
          "2021-11-06T00:00:00",
          "2021-11-07T00:00:00",
          "2021-11-08T00:00:00",
          "2021-11-09T00:00:00",
          "2021-11-10T00:00:00",
          "2021-11-11T00:00:00",
          "2021-11-12T00:00:00",
          "2021-11-13T00:00:00",
          "2021-11-14T00:00:00",
          "2021-11-15T00:00:00",
          "2021-11-16T00:00:00",
          "2021-11-17T00:00:00",
          "2021-11-18T00:00:00",
          "2021-11-19T00:00:00",
          "2021-11-20T00:00:00",
          "2021-11-21T00:00:00",
          "2021-11-22T00:00:00",
          "2021-11-23T00:00:00",
          "2021-11-24T00:00:00",
          "2021-11-25T00:00:00",
          "2021-11-26T00:00:00",
          "2021-11-27T00:00:00",
          "2021-11-28T00:00:00",
          "2021-11-29T00:00:00",
          "2021-11-30T00:00:00",
          "2021-12-01T00:00:00",
          "2021-12-02T00:00:00",
          "2021-12-03T00:00:00",
          "2021-12-04T00:00:00",
          "2021-12-05T00:00:00",
          "2021-12-06T00:00:00",
          "2021-12-07T00:00:00",
          "2021-12-08T00:00:00",
          "2021-12-09T00:00:00",
          "2021-12-10T00:00:00",
          "2021-12-11T00:00:00",
          "2021-12-12T00:00:00",
          "2021-12-13T00:00:00",
          "2021-12-14T00:00:00",
          "2021-12-15T00:00:00",
          "2021-12-16T00:00:00",
          "2021-12-17T00:00:00",
          "2021-12-18T00:00:00",
          "2021-12-19T00:00:00",
          "2021-12-20T00:00:00",
          "2021-12-21T00:00:00",
          "2021-12-22T00:00:00",
          "2021-12-23T00:00:00",
          "2021-12-24T00:00:00",
          "2021-12-25T00:00:00",
          "2021-12-26T00:00:00",
          "2021-12-27T00:00:00",
          "2021-12-28T00:00:00",
          "2021-12-29T00:00:00",
          "2021-12-30T00:00:00",
          "2021-12-31T00:00:00",
          "2022-01-01T00:00:00",
          "2022-01-02T00:00:00",
          "2022-01-03T00:00:00",
          "2022-01-04T00:00:00",
          "2022-01-05T00:00:00",
          "2022-01-06T00:00:00",
          "2022-01-07T00:00:00",
          "2022-01-08T00:00:00",
          "2022-01-09T00:00:00",
          "2022-01-10T00:00:00",
          "2022-01-11T00:00:00",
          "2022-01-12T00:00:00",
          "2022-01-13T00:00:00",
          "2022-01-14T00:00:00",
          "2022-01-15T00:00:00",
          "2022-01-16T00:00:00",
          "2022-01-17T00:00:00",
          "2022-01-18T00:00:00",
          "2022-01-19T00:00:00",
          "2022-01-20T00:00:00",
          "2022-01-21T00:00:00",
          "2022-01-22T00:00:00",
          "2022-01-23T00:00:00",
          "2022-01-24T00:00:00",
          "2022-01-25T00:00:00",
          "2022-01-26T00:00:00",
          "2022-01-27T00:00:00",
          "2022-01-28T00:00:00",
          "2022-01-29T00:00:00",
          "2022-01-30T00:00:00",
          "2022-01-31T00:00:00",
          "2022-02-01T00:00:00",
          "2022-02-02T00:00:00",
          "2022-02-03T00:00:00",
          "2022-02-04T00:00:00",
          "2022-02-05T00:00:00",
          "2022-02-06T00:00:00",
          "2022-02-07T00:00:00"
         ]
        }
       ],
       "layout": {
        "template": {
         "data": {
          "bar": [
           {
            "error_x": {
             "color": "#2a3f5f"
            },
            "error_y": {
             "color": "#2a3f5f"
            },
            "marker": {
             "line": {
              "color": "#E5ECF6",
              "width": 0.5
             },
             "pattern": {
              "fillmode": "overlay",
              "size": 10,
              "solidity": 0.2
             }
            },
            "type": "bar"
           }
          ],
          "barpolar": [
           {
            "marker": {
             "line": {
              "color": "#E5ECF6",
              "width": 0.5
             },
             "pattern": {
              "fillmode": "overlay",
              "size": 10,
              "solidity": 0.2
             }
            },
            "type": "barpolar"
           }
          ],
          "carpet": [
           {
            "aaxis": {
             "endlinecolor": "#2a3f5f",
             "gridcolor": "white",
             "linecolor": "white",
             "minorgridcolor": "white",
             "startlinecolor": "#2a3f5f"
            },
            "baxis": {
             "endlinecolor": "#2a3f5f",
             "gridcolor": "white",
             "linecolor": "white",
             "minorgridcolor": "white",
             "startlinecolor": "#2a3f5f"
            },
            "type": "carpet"
           }
          ],
          "choropleth": [
           {
            "colorbar": {
             "outlinewidth": 0,
             "ticks": ""
            },
            "type": "choropleth"
           }
          ],
          "contour": [
           {
            "colorbar": {
             "outlinewidth": 0,
             "ticks": ""
            },
            "colorscale": [
             [
              0,
              "#0d0887"
             ],
             [
              0.1111111111111111,
              "#46039f"
             ],
             [
              0.2222222222222222,
              "#7201a8"
             ],
             [
              0.3333333333333333,
              "#9c179e"
             ],
             [
              0.4444444444444444,
              "#bd3786"
             ],
             [
              0.5555555555555556,
              "#d8576b"
             ],
             [
              0.6666666666666666,
              "#ed7953"
             ],
             [
              0.7777777777777778,
              "#fb9f3a"
             ],
             [
              0.8888888888888888,
              "#fdca26"
             ],
             [
              1,
              "#f0f921"
             ]
            ],
            "type": "contour"
           }
          ],
          "contourcarpet": [
           {
            "colorbar": {
             "outlinewidth": 0,
             "ticks": ""
            },
            "type": "contourcarpet"
           }
          ],
          "heatmap": [
           {
            "colorbar": {
             "outlinewidth": 0,
             "ticks": ""
            },
            "colorscale": [
             [
              0,
              "#0d0887"
             ],
             [
              0.1111111111111111,
              "#46039f"
             ],
             [
              0.2222222222222222,
              "#7201a8"
             ],
             [
              0.3333333333333333,
              "#9c179e"
             ],
             [
              0.4444444444444444,
              "#bd3786"
             ],
             [
              0.5555555555555556,
              "#d8576b"
             ],
             [
              0.6666666666666666,
              "#ed7953"
             ],
             [
              0.7777777777777778,
              "#fb9f3a"
             ],
             [
              0.8888888888888888,
              "#fdca26"
             ],
             [
              1,
              "#f0f921"
             ]
            ],
            "type": "heatmap"
           }
          ],
          "heatmapgl": [
           {
            "colorbar": {
             "outlinewidth": 0,
             "ticks": ""
            },
            "colorscale": [
             [
              0,
              "#0d0887"
             ],
             [
              0.1111111111111111,
              "#46039f"
             ],
             [
              0.2222222222222222,
              "#7201a8"
             ],
             [
              0.3333333333333333,
              "#9c179e"
             ],
             [
              0.4444444444444444,
              "#bd3786"
             ],
             [
              0.5555555555555556,
              "#d8576b"
             ],
             [
              0.6666666666666666,
              "#ed7953"
             ],
             [
              0.7777777777777778,
              "#fb9f3a"
             ],
             [
              0.8888888888888888,
              "#fdca26"
             ],
             [
              1,
              "#f0f921"
             ]
            ],
            "type": "heatmapgl"
           }
          ],
          "histogram": [
           {
            "marker": {
             "pattern": {
              "fillmode": "overlay",
              "size": 10,
              "solidity": 0.2
             }
            },
            "type": "histogram"
           }
          ],
          "histogram2d": [
           {
            "colorbar": {
             "outlinewidth": 0,
             "ticks": ""
            },
            "colorscale": [
             [
              0,
              "#0d0887"
             ],
             [
              0.1111111111111111,
              "#46039f"
             ],
             [
              0.2222222222222222,
              "#7201a8"
             ],
             [
              0.3333333333333333,
              "#9c179e"
             ],
             [
              0.4444444444444444,
              "#bd3786"
             ],
             [
              0.5555555555555556,
              "#d8576b"
             ],
             [
              0.6666666666666666,
              "#ed7953"
             ],
             [
              0.7777777777777778,
              "#fb9f3a"
             ],
             [
              0.8888888888888888,
              "#fdca26"
             ],
             [
              1,
              "#f0f921"
             ]
            ],
            "type": "histogram2d"
           }
          ],
          "histogram2dcontour": [
           {
            "colorbar": {
             "outlinewidth": 0,
             "ticks": ""
            },
            "colorscale": [
             [
              0,
              "#0d0887"
             ],
             [
              0.1111111111111111,
              "#46039f"
             ],
             [
              0.2222222222222222,
              "#7201a8"
             ],
             [
              0.3333333333333333,
              "#9c179e"
             ],
             [
              0.4444444444444444,
              "#bd3786"
             ],
             [
              0.5555555555555556,
              "#d8576b"
             ],
             [
              0.6666666666666666,
              "#ed7953"
             ],
             [
              0.7777777777777778,
              "#fb9f3a"
             ],
             [
              0.8888888888888888,
              "#fdca26"
             ],
             [
              1,
              "#f0f921"
             ]
            ],
            "type": "histogram2dcontour"
           }
          ],
          "mesh3d": [
           {
            "colorbar": {
             "outlinewidth": 0,
             "ticks": ""
            },
            "type": "mesh3d"
           }
          ],
          "parcoords": [
           {
            "line": {
             "colorbar": {
              "outlinewidth": 0,
              "ticks": ""
             }
            },
            "type": "parcoords"
           }
          ],
          "pie": [
           {
            "automargin": true,
            "type": "pie"
           }
          ],
          "scatter": [
           {
            "marker": {
             "colorbar": {
              "outlinewidth": 0,
              "ticks": ""
             }
            },
            "type": "scatter"
           }
          ],
          "scatter3d": [
           {
            "line": {
             "colorbar": {
              "outlinewidth": 0,
              "ticks": ""
             }
            },
            "marker": {
             "colorbar": {
              "outlinewidth": 0,
              "ticks": ""
             }
            },
            "type": "scatter3d"
           }
          ],
          "scattercarpet": [
           {
            "marker": {
             "colorbar": {
              "outlinewidth": 0,
              "ticks": ""
             }
            },
            "type": "scattercarpet"
           }
          ],
          "scattergeo": [
           {
            "marker": {
             "colorbar": {
              "outlinewidth": 0,
              "ticks": ""
             }
            },
            "type": "scattergeo"
           }
          ],
          "scattergl": [
           {
            "marker": {
             "colorbar": {
              "outlinewidth": 0,
              "ticks": ""
             }
            },
            "type": "scattergl"
           }
          ],
          "scattermapbox": [
           {
            "marker": {
             "colorbar": {
              "outlinewidth": 0,
              "ticks": ""
             }
            },
            "type": "scattermapbox"
           }
          ],
          "scatterpolar": [
           {
            "marker": {
             "colorbar": {
              "outlinewidth": 0,
              "ticks": ""
             }
            },
            "type": "scatterpolar"
           }
          ],
          "scatterpolargl": [
           {
            "marker": {
             "colorbar": {
              "outlinewidth": 0,
              "ticks": ""
             }
            },
            "type": "scatterpolargl"
           }
          ],
          "scatterternary": [
           {
            "marker": {
             "colorbar": {
              "outlinewidth": 0,
              "ticks": ""
             }
            },
            "type": "scatterternary"
           }
          ],
          "surface": [
           {
            "colorbar": {
             "outlinewidth": 0,
             "ticks": ""
            },
            "colorscale": [
             [
              0,
              "#0d0887"
             ],
             [
              0.1111111111111111,
              "#46039f"
             ],
             [
              0.2222222222222222,
              "#7201a8"
             ],
             [
              0.3333333333333333,
              "#9c179e"
             ],
             [
              0.4444444444444444,
              "#bd3786"
             ],
             [
              0.5555555555555556,
              "#d8576b"
             ],
             [
              0.6666666666666666,
              "#ed7953"
             ],
             [
              0.7777777777777778,
              "#fb9f3a"
             ],
             [
              0.8888888888888888,
              "#fdca26"
             ],
             [
              1,
              "#f0f921"
             ]
            ],
            "type": "surface"
           }
          ],
          "table": [
           {
            "cells": {
             "fill": {
              "color": "#EBF0F8"
             },
             "line": {
              "color": "white"
             }
            },
            "header": {
             "fill": {
              "color": "#C8D4E3"
             },
             "line": {
              "color": "white"
             }
            },
            "type": "table"
           }
          ]
         },
         "layout": {
          "annotationdefaults": {
           "arrowcolor": "#2a3f5f",
           "arrowhead": 0,
           "arrowwidth": 1
          },
          "autotypenumbers": "strict",
          "coloraxis": {
           "colorbar": {
            "outlinewidth": 0,
            "ticks": ""
           }
          },
          "colorscale": {
           "diverging": [
            [
             0,
             "#8e0152"
            ],
            [
             0.1,
             "#c51b7d"
            ],
            [
             0.2,
             "#de77ae"
            ],
            [
             0.3,
             "#f1b6da"
            ],
            [
             0.4,
             "#fde0ef"
            ],
            [
             0.5,
             "#f7f7f7"
            ],
            [
             0.6,
             "#e6f5d0"
            ],
            [
             0.7,
             "#b8e186"
            ],
            [
             0.8,
             "#7fbc41"
            ],
            [
             0.9,
             "#4d9221"
            ],
            [
             1,
             "#276419"
            ]
           ],
           "sequential": [
            [
             0,
             "#0d0887"
            ],
            [
             0.1111111111111111,
             "#46039f"
            ],
            [
             0.2222222222222222,
             "#7201a8"
            ],
            [
             0.3333333333333333,
             "#9c179e"
            ],
            [
             0.4444444444444444,
             "#bd3786"
            ],
            [
             0.5555555555555556,
             "#d8576b"
            ],
            [
             0.6666666666666666,
             "#ed7953"
            ],
            [
             0.7777777777777778,
             "#fb9f3a"
            ],
            [
             0.8888888888888888,
             "#fdca26"
            ],
            [
             1,
             "#f0f921"
            ]
           ],
           "sequentialminus": [
            [
             0,
             "#0d0887"
            ],
            [
             0.1111111111111111,
             "#46039f"
            ],
            [
             0.2222222222222222,
             "#7201a8"
            ],
            [
             0.3333333333333333,
             "#9c179e"
            ],
            [
             0.4444444444444444,
             "#bd3786"
            ],
            [
             0.5555555555555556,
             "#d8576b"
            ],
            [
             0.6666666666666666,
             "#ed7953"
            ],
            [
             0.7777777777777778,
             "#fb9f3a"
            ],
            [
             0.8888888888888888,
             "#fdca26"
            ],
            [
             1,
             "#f0f921"
            ]
           ]
          },
          "colorway": [
           "#636efa",
           "#EF553B",
           "#00cc96",
           "#ab63fa",
           "#FFA15A",
           "#19d3f3",
           "#FF6692",
           "#B6E880",
           "#FF97FF",
           "#FECB52"
          ],
          "font": {
           "color": "#2a3f5f"
          },
          "geo": {
           "bgcolor": "white",
           "lakecolor": "white",
           "landcolor": "#E5ECF6",
           "showlakes": true,
           "showland": true,
           "subunitcolor": "white"
          },
          "hoverlabel": {
           "align": "left"
          },
          "hovermode": "closest",
          "mapbox": {
           "style": "light"
          },
          "paper_bgcolor": "white",
          "plot_bgcolor": "#E5ECF6",
          "polar": {
           "angularaxis": {
            "gridcolor": "white",
            "linecolor": "white",
            "ticks": ""
           },
           "bgcolor": "#E5ECF6",
           "radialaxis": {
            "gridcolor": "white",
            "linecolor": "white",
            "ticks": ""
           }
          },
          "scene": {
           "xaxis": {
            "backgroundcolor": "#E5ECF6",
            "gridcolor": "white",
            "gridwidth": 2,
            "linecolor": "white",
            "showbackground": true,
            "ticks": "",
            "zerolinecolor": "white"
           },
           "yaxis": {
            "backgroundcolor": "#E5ECF6",
            "gridcolor": "white",
            "gridwidth": 2,
            "linecolor": "white",
            "showbackground": true,
            "ticks": "",
            "zerolinecolor": "white"
           },
           "zaxis": {
            "backgroundcolor": "#E5ECF6",
            "gridcolor": "white",
            "gridwidth": 2,
            "linecolor": "white",
            "showbackground": true,
            "ticks": "",
            "zerolinecolor": "white"
           }
          },
          "shapedefaults": {
           "line": {
            "color": "#2a3f5f"
           }
          },
          "ternary": {
           "aaxis": {
            "gridcolor": "white",
            "linecolor": "white",
            "ticks": ""
           },
           "baxis": {
            "gridcolor": "white",
            "linecolor": "white",
            "ticks": ""
           },
           "bgcolor": "#E5ECF6",
           "caxis": {
            "gridcolor": "white",
            "linecolor": "white",
            "ticks": ""
           }
          },
          "title": {
           "x": 0.05
          },
          "xaxis": {
           "automargin": true,
           "gridcolor": "white",
           "linecolor": "white",
           "ticks": "",
           "title": {
            "standoff": 15
           },
           "zerolinecolor": "white",
           "zerolinewidth": 2
          },
          "yaxis": {
           "automargin": true,
           "gridcolor": "white",
           "linecolor": "white",
           "ticks": "",
           "title": {
            "standoff": 15
           },
           "zerolinecolor": "white",
           "zerolinewidth": 2
          }
         }
        }
       }
      }
     },
     "metadata": {},
     "output_type": "display_data"
    }
   ],
   "source": [
    "fig = go.Figure(data=[go.Candlestick(x=df.index,\n",
    "                open=df['open'],\n",
    "                high=df['high'],\n",
    "                low=df['low'],\n",
    "                close=df['close'])])\n",
    "\n",
    "fig.show()"
   ]
  },
  {
   "cell_type": "markdown",
   "metadata": {},
   "source": [
    "## Normalise data and split intro train and test datasets"
   ]
  },
  {
   "cell_type": "code",
   "execution_count": 5,
   "metadata": {},
   "outputs": [],
   "source": [
    "# retrieve close and open values\n",
    "close = df['close'].values\n",
    "open = df['open'].values\n",
    "\n",
    "# normalise data to 0-1 and transform it\n",
    "scaler = MinMaxScaler()\n",
    "\n",
    "X = scaler.fit_transform(close.reshape(-1,1))\n",
    "y = scaler.fit_transform(open.reshape(-1,1))\n",
    "\n",
    "# split into train and test sets\n",
    "X_train, X_test, y_train, y_test = train_test_split(X,y, test_size=0.2, random_state=42)\n"
   ]
  },
  {
   "cell_type": "markdown",
   "metadata": {},
   "source": [
    "# Build LSTM model"
   ]
  },
  {
   "cell_type": "code",
   "execution_count": 6,
   "metadata": {},
   "outputs": [
    {
     "data": {
      "text/plain": [
       "'\\nmodel = keras.Sequential()\\nmodel.add(layers.LSTM(100, return_sequences=True, input_shape=(X_train.shape[1], 1)))\\n#model.add(layers.LSTM(100, return_sequences=True, input_shape=(X_train.shape[1], 1)))\\nmodel.add(layers.LSTM(100, return_sequences=False))\\nmodel.add(layers.Dense(50))\\nmodel.add(layers.Dense(25))\\nmodel.add(layers.Dense(1))\\nmodel.summary()\\n'"
      ]
     },
     "execution_count": 6,
     "metadata": {},
     "output_type": "execute_result"
    }
   ],
   "source": [
    "'''\n",
    "model = keras.Sequential()\n",
    "model.add(layers.LSTM(100, return_sequences=True, input_shape=(X_train.shape[1], 1)))\n",
    "#model.add(layers.LSTM(100, return_sequences=True, input_shape=(X_train.shape[1], 1)))\n",
    "model.add(layers.LSTM(100, return_sequences=False))\n",
    "model.add(layers.Dense(50))\n",
    "model.add(layers.Dense(25))\n",
    "model.add(layers.Dense(1))\n",
    "model.summary()\n",
    "'''"
   ]
  },
  {
   "cell_type": "code",
   "execution_count": 7,
   "metadata": {},
   "outputs": [
    {
     "name": "stdout",
     "output_type": "stream",
     "text": [
      "Model: \"sequential\"\n",
      "_________________________________________________________________\n",
      " Layer (type)                Output Shape              Param #   \n",
      "=================================================================\n",
      " lstm (LSTM)                 (None, 1, 100)            40800     \n",
      "                                                                 \n",
      " dropout (Dropout)           (None, 1, 100)            0         \n",
      "                                                                 \n",
      " lstm_1 (LSTM)               (None, 1, 50)             30200     \n",
      "                                                                 \n",
      " dropout_1 (Dropout)         (None, 1, 50)             0         \n",
      "                                                                 \n",
      " lstm_2 (LSTM)               (None, 1, 50)             20200     \n",
      "                                                                 \n",
      " dropout_2 (Dropout)         (None, 1, 50)             0         \n",
      "                                                                 \n",
      " lstm_3 (LSTM)               (None, 50)                20200     \n",
      "                                                                 \n",
      " dropout_3 (Dropout)         (None, 50)                0         \n",
      "                                                                 \n",
      " dense (Dense)               (None, 1)                 51        \n",
      "                                                                 \n",
      "=================================================================\n",
      "Total params: 111,451\n",
      "Trainable params: 111,451\n",
      "Non-trainable params: 0\n",
      "_________________________________________________________________\n"
     ]
    }
   ],
   "source": [
    "from keras.layers import *\n",
    "\n",
    "model = keras.Sequential()\n",
    "#Adding the first LSTM layer and some Dropout regularisation\n",
    "model.add(LSTM(units = 100, return_sequences = True, input_shape = (X_train.shape[1], 1)))\n",
    "model.add(Dropout(0.5))\n",
    "# Adding a second LSTM layer and some Dropout regularisation\n",
    "model.add(LSTM(units = 50, return_sequences = True))\n",
    "model.add(Dropout(0.2))\n",
    "# Adding a third LSTM layer and some Dropout regularisation\n",
    "model.add(LSTM(units = 50, return_sequences = True))\n",
    "model.add(Dropout(0.2))\n",
    "# Adding a fourth LSTM layer and some Dropout regularisation\n",
    "model.add(LSTM(units = 50))\n",
    "model.add(Dropout(0.2))\n",
    "# Adding the output layer\n",
    "model.add(Dense(units = 1))\n",
    "\n",
    "model.summary()"
   ]
  },
  {
   "cell_type": "markdown",
   "metadata": {},
   "source": [
    "# Train process"
   ]
  },
  {
   "cell_type": "code",
   "execution_count": 8,
   "metadata": {},
   "outputs": [
    {
     "name": "stdout",
     "output_type": "stream",
     "text": [
      "Epoch 1/10\n",
      "20/20 [==============================] - 9s 7ms/step - loss: 0.1315\n",
      "Epoch 2/10\n",
      "20/20 [==============================] - 0s 8ms/step - loss: 0.0851\n",
      "Epoch 3/10\n",
      "20/20 [==============================] - 0s 7ms/step - loss: 0.0548\n",
      "Epoch 4/10\n",
      "20/20 [==============================] - 0s 9ms/step - loss: 0.0291\n",
      "Epoch 5/10\n",
      "20/20 [==============================] - 0s 10ms/step - loss: 0.0092\n",
      "Epoch 6/10\n",
      "20/20 [==============================] - 0s 8ms/step - loss: 0.0071\n",
      "Epoch 7/10\n",
      "20/20 [==============================] - 0s 7ms/step - loss: 0.0060\n",
      "Epoch 8/10\n",
      "20/20 [==============================] - 0s 8ms/step - loss: 0.0066\n",
      "Epoch 9/10\n",
      "20/20 [==============================] - 0s 8ms/step - loss: 0.0048\n",
      "Epoch 10/10\n",
      "20/20 [==============================] - 0s 13ms/step - loss: 0.0049\n"
     ]
    },
    {
     "data": {
      "text/plain": [
       "<keras.callbacks.History at 0x1bea4bddd90>"
      ]
     },
     "execution_count": 8,
     "metadata": {},
     "output_type": "execute_result"
    }
   ],
   "source": [
    "model.compile(optimizer='adam', loss='mean_squared_error')\n",
    "model.fit(X_train, y_train, batch_size= 32, epochs=10)"
   ]
  },
  {
   "cell_type": "markdown",
   "metadata": {},
   "source": [
    "# Test process"
   ]
  },
  {
   "cell_type": "code",
   "execution_count": 9,
   "metadata": {},
   "outputs": [
    {
     "name": "stdout",
     "output_type": "stream",
     "text": [
      "0.0009956862591983453 0.03155449665575962 0.9867380343261727\n"
     ]
    }
   ],
   "source": [
    "# obtain model predictions which are in the range 0-1\n",
    "predictions = model.predict(X_test)\n",
    "\n",
    "y_true = y_test\n",
    "y_pred = predictions\n",
    "\n",
    "# evaluation metrics\n",
    "mse = mean_squared_error(y_true, y_pred)\n",
    "rmse = np.sqrt(mse)\n",
    "r_squared = r2_score(y_true, y_pred)\n",
    "\n",
    "print(mse, rmse, r_squared)"
   ]
  },
  {
   "cell_type": "code",
   "execution_count": 10,
   "metadata": {},
   "outputs": [],
   "source": [
    "#compare = pd.DataFrame[{'actual':y_test, 'preds':y_pred}]\n",
    "compare = pd.DataFrame(zip([i[0] for i in y_pred], [i[0] for i in y_true]),\n",
    "               columns =['Predicted', 'Actual'])"
   ]
  },
  {
   "cell_type": "code",
   "execution_count": 11,
   "metadata": {},
   "outputs": [
    {
     "data": {
      "application/vnd.plotly.v1+json": {
       "config": {
        "plotlyServerURL": "https://plot.ly"
       },
       "data": [
        {
         "hovertemplate": "variable=Predicted<br>index=%{x}<br>value=%{y}<extra></extra>",
         "legendgroup": "Predicted",
         "line": {
          "color": "#636efa",
          "dash": "solid"
         },
         "marker": {
          "symbol": "circle"
         },
         "mode": "markers+lines",
         "name": "Predicted",
         "orientation": "v",
         "showlegend": true,
         "type": "scatter",
         "x": [
          0,
          1,
          2,
          3,
          4,
          5,
          6,
          7,
          8,
          9,
          10,
          11,
          12,
          13,
          14,
          15,
          16,
          17,
          18,
          19,
          20,
          21,
          22,
          23,
          24,
          25,
          26,
          27,
          28,
          29,
          30,
          31,
          32,
          33,
          34,
          35,
          36,
          37,
          38,
          39,
          40,
          41,
          42,
          43,
          44,
          45,
          46,
          47,
          48,
          49,
          50,
          51,
          52,
          53,
          54,
          55,
          56,
          57,
          58,
          59,
          60,
          61,
          62,
          63,
          64,
          65,
          66,
          67,
          68,
          69,
          70,
          71,
          72,
          73,
          74,
          75,
          76,
          77,
          78,
          79,
          80,
          81,
          82,
          83,
          84,
          85,
          86,
          87,
          88,
          89,
          90,
          91,
          92,
          93,
          94,
          95,
          96,
          97,
          98,
          99,
          100,
          101,
          102,
          103,
          104,
          105,
          106,
          107,
          108,
          109,
          110,
          111,
          112,
          113,
          114,
          115,
          116,
          117,
          118,
          119,
          120,
          121,
          122,
          123,
          124,
          125,
          126,
          127,
          128,
          129,
          130,
          131,
          132,
          133,
          134,
          135,
          136,
          137,
          138,
          139,
          140,
          141,
          142,
          143,
          144,
          145,
          146,
          147,
          148,
          149,
          150,
          151,
          152,
          153
         ],
         "xaxis": "x",
         "y": [
          0.6481929421424866,
          0.04495827481150627,
          0.7966653108596802,
          0.5774179100990295,
          0.39750945568084717,
          0.04649745672941208,
          0.023740120232105255,
          0.05542254447937012,
          0.3661433458328247,
          0.0312841460108757,
          0.6447761058807373,
          0.05028228461742401,
          0.04610331729054451,
          0.03548067808151245,
          0.3209286332130432,
          0.05490109324455261,
          0.7773512005805969,
          0.3676352798938751,
          1.0279695987701416,
          0.05166946351528168,
          0.687089204788208,
          0.4145808815956116,
          0.022120025008916855,
          0.05023278668522835,
          0.039292577654123306,
          0.05295959487557411,
          0.43230387568473816,
          0.7567561268806458,
          0.057721782475709915,
          0.34745821356773376,
          0.026840854436159134,
          0.06390976905822754,
          0.40421998500823975,
          0.04089856520295143,
          0.02567446231842041,
          0.05263818800449371,
          0.4084058403968811,
          0.027162490412592888,
          0.43561968207359314,
          0.022492630407214165,
          0.40770936012268066,
          0.3655204772949219,
          0.02845790982246399,
          0.6759997010231018,
          0.029234638437628746,
          0.029016276821494102,
          0.030485088005661964,
          0.021428147330880165,
          0.04102737829089165,
          0.4148254990577698,
          0.7606241106987,
          0.5630210041999817,
          0.09375117719173431,
          0.36314308643341064,
          0.5785739421844482,
          0.046738699078559875,
          0.05443231761455536,
          0.5738033056259155,
          0.5366698503494263,
          0.20194703340530396,
          0.31828051805496216,
          0.3500128388404846,
          0.6033528447151184,
          0.03947000950574875,
          0.4187433123588562,
          0.05075658857822418,
          0.05052722245454788,
          0.02227861061692238,
          0.042107678949832916,
          0.2758863568305969,
          0.02976813167333603,
          0.4149303734302521,
          0.5326988101005554,
          0.02380065992474556,
          0.5410885214805603,
          0.06010626256465912,
          0.3813246488571167,
          0.10565347969532013,
          0.46870115399360657,
          0.02412610873579979,
          0.046759456396102905,
          0.32690975069999695,
          0.03581344708800316,
          0.34139740467071533,
          0.03587234020233154,
          0.4184282124042511,
          0.03736645355820656,
          0.03960118070244789,
          0.027910079807043076,
          0.05106424540281296,
          0.02779599279165268,
          0.057966236025094986,
          0.021669607609510422,
          0.4450167715549469,
          0.21085302531719208,
          0.4684503376483917,
          0.03859351575374603,
          0.4690237045288086,
          0.05241614207625389,
          0.02134767547249794,
          0.4386933147907257,
          0.04178008809685707,
          0.02202186919748783,
          0.04655711352825165,
          0.10642142593860626,
          0.8168613314628601,
          0.027210615575313568,
          0.38544973731040955,
          0.7216414213180542,
          0.04175945743918419,
          0.026656046509742737,
          0.5811483263969421,
          0.0293387733399868,
          0.3275683522224426,
          0.2594144940376282,
          0.9897720217704773,
          0.05017547309398651,
          0.03600037097930908,
          0.48106077313423157,
          0.024007523432374,
          0.04817720502614975,
          0.03840342164039612,
          0.02619040384888649,
          0.11302003264427185,
          0.023281218484044075,
          0.32424497604370117,
          0.43918824195861816,
          0.03805677965283394,
          0.04717985540628433,
          0.44219616055488586,
          0.02346777357161045,
          0.049896787852048874,
          0.11569899320602417,
          0.7274182438850403,
          0.9913188219070435,
          0.3847615122795105,
          0.43248018622398376,
          0.5681102275848389,
          0.8658716678619385,
          0.8619799613952637,
          0.02228112705051899,
          0.4881676733493805,
          0.37009721994400024,
          0.42354604601860046,
          0.7656546831130981,
          0.027841629460453987,
          0.05175819620490074,
          0.02899850159883499,
          0.4820336103439331,
          0.0539376400411129,
          0.44637879729270935,
          0.05109032616019249,
          0.04231410101056099,
          0.36205923557281494
         ],
         "yaxis": "y"
        },
        {
         "hovertemplate": "variable=Actual<br>index=%{x}<br>value=%{y}<extra></extra>",
         "legendgroup": "Actual",
         "line": {
          "color": "#EF553B",
          "dash": "solid"
         },
         "marker": {
          "symbol": "circle"
         },
         "mode": "markers+lines",
         "name": "Actual",
         "orientation": "v",
         "showlegend": true,
         "type": "scatter",
         "x": [
          0,
          1,
          2,
          3,
          4,
          5,
          6,
          7,
          8,
          9,
          10,
          11,
          12,
          13,
          14,
          15,
          16,
          17,
          18,
          19,
          20,
          21,
          22,
          23,
          24,
          25,
          26,
          27,
          28,
          29,
          30,
          31,
          32,
          33,
          34,
          35,
          36,
          37,
          38,
          39,
          40,
          41,
          42,
          43,
          44,
          45,
          46,
          47,
          48,
          49,
          50,
          51,
          52,
          53,
          54,
          55,
          56,
          57,
          58,
          59,
          60,
          61,
          62,
          63,
          64,
          65,
          66,
          67,
          68,
          69,
          70,
          71,
          72,
          73,
          74,
          75,
          76,
          77,
          78,
          79,
          80,
          81,
          82,
          83,
          84,
          85,
          86,
          87,
          88,
          89,
          90,
          91,
          92,
          93,
          94,
          95,
          96,
          97,
          98,
          99,
          100,
          101,
          102,
          103,
          104,
          105,
          106,
          107,
          108,
          109,
          110,
          111,
          112,
          113,
          114,
          115,
          116,
          117,
          118,
          119,
          120,
          121,
          122,
          123,
          124,
          125,
          126,
          127,
          128,
          129,
          130,
          131,
          132,
          133,
          134,
          135,
          136,
          137,
          138,
          139,
          140,
          141,
          142,
          143,
          144,
          145,
          146,
          147,
          148,
          149,
          150,
          151,
          152,
          153
         ],
         "xaxis": "x",
         "y": [
          0.6573386636207882,
          0.02807239400614615,
          0.8137118925239999,
          0.6158657637812407,
          0.4573203067634822,
          0.03417434935139105,
          0.004279867286720512,
          0.044947105055614486,
          0.39017840145767047,
          0.010810149302439422,
          0.6773952299366349,
          0.039854776862201194,
          0.0336270430502298,
          0.019230507737075415,
          0.34391232221043755,
          0.044012265100214845,
          0.7315819531696174,
          0.3943256914416252,
          0.8517853743439123,
          0.03924288161866689,
          0.6845340077778684,
          0.44688069402518293,
          0.0025597617687851838,
          0.04254371651573251,
          0.02393190285823067,
          0.039191890348372366,
          0.45769084332762233,
          0.7586413206059123,
          0.04459696499959208,
          0.3758702510130266,
          0.00957276114329227,
          0.052004296864376826,
          0.4383447553778793,
          0.027086562780451986,
          0.008648119441951537,
          0.04780601561012755,
          0.43892605585923694,
          0.009650947757743875,
          0.46003644176117053,
          0.0009382393734192699,
          0.41281852546843983,
          0.3971880014141579,
          0.011156889940442196,
          0.7158086535585109,
          0.011014114383617525,
          0.010395420304043949,
          0.012472464714040957,
          0.0008192597427320435,
          0.028242364907127896,
          0.4515378967120829,
          0.6671969758777297,
          0.5275148894509261,
          0.10446411574338475,
          0.40482649370427787,
          0.5198322047265509,
          0.033932990671996954,
          0.04591593919121047,
          0.5429822414402655,
          0.5873106524163063,
          0.21680468303826383,
          0.35445051807130623,
          0.35275080906148865,
          0.5881265127410188,
          0.025060509640749507,
          0.4361385330831362,
          0.039582823420630395,
          0.04273748334285171,
          0.002355796687607081,
          0.030931304560659217,
          0.3062399717168421,
          0.01295518207282913,
          0.4268581218895325,
          0.5967610345108918,
          0.004504228876016425,
          0.49331674417339755,
          0.044651355687906236,
          0.43739631775040116,
          0.11579437600282833,
          0.48050093823937345,
          0.004626607924723285,
          0.03233186478474885,
          0.37132182970275485,
          0.02048829240434038,
          0.40447295423023577,
          0.020607272035027605,
          0.4877077044409997,
          0.021164776590247753,
          0.024547197519784614,
          0.009395991406271245,
          0.039103505479861855,
          0.009409589078349784,
          0.044372603410296155,
          0.0020838432460362783,
          0.43893285469527615,
          0.22212477223899268,
          0.48546408854804063,
          0.02357156454814936,
          0.42376465149166465,
          0.03929387288896141,
          0.0003127464578064239,
          0.4446030839520274,
          0.02747749585271002,
          0,
          0.03371542791874031,
          0.10904313181583314,
          0.8691224062440511,
          0.008620924097794459,
          0.4061216719697588,
          0.7181882461722554,
          0.027953414375458927,
          0.00786625329743548,
          0.6301433194637078,
          0.013417502923499497,
          0.37280737537733544,
          0.2786027032172092,
          0.993881047564657,
          0.039072910717685136,
          0.01901294498381877,
          0.5547442277882026,
          0.0046368061787821924,
          0.03712844361045389,
          0.02539705202469338,
          0.006754643605014821,
          0.12151219711185447,
          0.003365423839438688,
          0.3411927877947295,
          0.4605123602839194,
          0.023717739522993667,
          0.034629871366022136,
          0.46618938837671,
          0.0031852546843980298,
          0.03756016969894754,
          0.11124595469255665,
          0.7362051616763211,
          0.9598868673683066,
          0.4377362595523646,
          0.4608523020858829,
          0.595809197465394,
          0.9231391585760519,
          0.8317288080280657,
          0.002369394359685622,
          0.5618150172690436,
          0.3722498708221153,
          0.4520138152348318,
          0.7147888281526202,
          0.00921582225123059,
          0.04044287617959806,
          0.012149520002175628,
          0.48668787903510924,
          0.047129531424220175,
          0.4960362785891056,
          0.04237034619673112,
          0.029721111745669142,
          0.4177374833428517
         ],
         "yaxis": "y"
        }
       ],
       "layout": {
        "legend": {
         "title": {
          "text": "variable"
         },
         "tracegroupgap": 0
        },
        "template": {
         "data": {
          "bar": [
           {
            "error_x": {
             "color": "#2a3f5f"
            },
            "error_y": {
             "color": "#2a3f5f"
            },
            "marker": {
             "line": {
              "color": "#E5ECF6",
              "width": 0.5
             },
             "pattern": {
              "fillmode": "overlay",
              "size": 10,
              "solidity": 0.2
             }
            },
            "type": "bar"
           }
          ],
          "barpolar": [
           {
            "marker": {
             "line": {
              "color": "#E5ECF6",
              "width": 0.5
             },
             "pattern": {
              "fillmode": "overlay",
              "size": 10,
              "solidity": 0.2
             }
            },
            "type": "barpolar"
           }
          ],
          "carpet": [
           {
            "aaxis": {
             "endlinecolor": "#2a3f5f",
             "gridcolor": "white",
             "linecolor": "white",
             "minorgridcolor": "white",
             "startlinecolor": "#2a3f5f"
            },
            "baxis": {
             "endlinecolor": "#2a3f5f",
             "gridcolor": "white",
             "linecolor": "white",
             "minorgridcolor": "white",
             "startlinecolor": "#2a3f5f"
            },
            "type": "carpet"
           }
          ],
          "choropleth": [
           {
            "colorbar": {
             "outlinewidth": 0,
             "ticks": ""
            },
            "type": "choropleth"
           }
          ],
          "contour": [
           {
            "colorbar": {
             "outlinewidth": 0,
             "ticks": ""
            },
            "colorscale": [
             [
              0,
              "#0d0887"
             ],
             [
              0.1111111111111111,
              "#46039f"
             ],
             [
              0.2222222222222222,
              "#7201a8"
             ],
             [
              0.3333333333333333,
              "#9c179e"
             ],
             [
              0.4444444444444444,
              "#bd3786"
             ],
             [
              0.5555555555555556,
              "#d8576b"
             ],
             [
              0.6666666666666666,
              "#ed7953"
             ],
             [
              0.7777777777777778,
              "#fb9f3a"
             ],
             [
              0.8888888888888888,
              "#fdca26"
             ],
             [
              1,
              "#f0f921"
             ]
            ],
            "type": "contour"
           }
          ],
          "contourcarpet": [
           {
            "colorbar": {
             "outlinewidth": 0,
             "ticks": ""
            },
            "type": "contourcarpet"
           }
          ],
          "heatmap": [
           {
            "colorbar": {
             "outlinewidth": 0,
             "ticks": ""
            },
            "colorscale": [
             [
              0,
              "#0d0887"
             ],
             [
              0.1111111111111111,
              "#46039f"
             ],
             [
              0.2222222222222222,
              "#7201a8"
             ],
             [
              0.3333333333333333,
              "#9c179e"
             ],
             [
              0.4444444444444444,
              "#bd3786"
             ],
             [
              0.5555555555555556,
              "#d8576b"
             ],
             [
              0.6666666666666666,
              "#ed7953"
             ],
             [
              0.7777777777777778,
              "#fb9f3a"
             ],
             [
              0.8888888888888888,
              "#fdca26"
             ],
             [
              1,
              "#f0f921"
             ]
            ],
            "type": "heatmap"
           }
          ],
          "heatmapgl": [
           {
            "colorbar": {
             "outlinewidth": 0,
             "ticks": ""
            },
            "colorscale": [
             [
              0,
              "#0d0887"
             ],
             [
              0.1111111111111111,
              "#46039f"
             ],
             [
              0.2222222222222222,
              "#7201a8"
             ],
             [
              0.3333333333333333,
              "#9c179e"
             ],
             [
              0.4444444444444444,
              "#bd3786"
             ],
             [
              0.5555555555555556,
              "#d8576b"
             ],
             [
              0.6666666666666666,
              "#ed7953"
             ],
             [
              0.7777777777777778,
              "#fb9f3a"
             ],
             [
              0.8888888888888888,
              "#fdca26"
             ],
             [
              1,
              "#f0f921"
             ]
            ],
            "type": "heatmapgl"
           }
          ],
          "histogram": [
           {
            "marker": {
             "pattern": {
              "fillmode": "overlay",
              "size": 10,
              "solidity": 0.2
             }
            },
            "type": "histogram"
           }
          ],
          "histogram2d": [
           {
            "colorbar": {
             "outlinewidth": 0,
             "ticks": ""
            },
            "colorscale": [
             [
              0,
              "#0d0887"
             ],
             [
              0.1111111111111111,
              "#46039f"
             ],
             [
              0.2222222222222222,
              "#7201a8"
             ],
             [
              0.3333333333333333,
              "#9c179e"
             ],
             [
              0.4444444444444444,
              "#bd3786"
             ],
             [
              0.5555555555555556,
              "#d8576b"
             ],
             [
              0.6666666666666666,
              "#ed7953"
             ],
             [
              0.7777777777777778,
              "#fb9f3a"
             ],
             [
              0.8888888888888888,
              "#fdca26"
             ],
             [
              1,
              "#f0f921"
             ]
            ],
            "type": "histogram2d"
           }
          ],
          "histogram2dcontour": [
           {
            "colorbar": {
             "outlinewidth": 0,
             "ticks": ""
            },
            "colorscale": [
             [
              0,
              "#0d0887"
             ],
             [
              0.1111111111111111,
              "#46039f"
             ],
             [
              0.2222222222222222,
              "#7201a8"
             ],
             [
              0.3333333333333333,
              "#9c179e"
             ],
             [
              0.4444444444444444,
              "#bd3786"
             ],
             [
              0.5555555555555556,
              "#d8576b"
             ],
             [
              0.6666666666666666,
              "#ed7953"
             ],
             [
              0.7777777777777778,
              "#fb9f3a"
             ],
             [
              0.8888888888888888,
              "#fdca26"
             ],
             [
              1,
              "#f0f921"
             ]
            ],
            "type": "histogram2dcontour"
           }
          ],
          "mesh3d": [
           {
            "colorbar": {
             "outlinewidth": 0,
             "ticks": ""
            },
            "type": "mesh3d"
           }
          ],
          "parcoords": [
           {
            "line": {
             "colorbar": {
              "outlinewidth": 0,
              "ticks": ""
             }
            },
            "type": "parcoords"
           }
          ],
          "pie": [
           {
            "automargin": true,
            "type": "pie"
           }
          ],
          "scatter": [
           {
            "marker": {
             "colorbar": {
              "outlinewidth": 0,
              "ticks": ""
             }
            },
            "type": "scatter"
           }
          ],
          "scatter3d": [
           {
            "line": {
             "colorbar": {
              "outlinewidth": 0,
              "ticks": ""
             }
            },
            "marker": {
             "colorbar": {
              "outlinewidth": 0,
              "ticks": ""
             }
            },
            "type": "scatter3d"
           }
          ],
          "scattercarpet": [
           {
            "marker": {
             "colorbar": {
              "outlinewidth": 0,
              "ticks": ""
             }
            },
            "type": "scattercarpet"
           }
          ],
          "scattergeo": [
           {
            "marker": {
             "colorbar": {
              "outlinewidth": 0,
              "ticks": ""
             }
            },
            "type": "scattergeo"
           }
          ],
          "scattergl": [
           {
            "marker": {
             "colorbar": {
              "outlinewidth": 0,
              "ticks": ""
             }
            },
            "type": "scattergl"
           }
          ],
          "scattermapbox": [
           {
            "marker": {
             "colorbar": {
              "outlinewidth": 0,
              "ticks": ""
             }
            },
            "type": "scattermapbox"
           }
          ],
          "scatterpolar": [
           {
            "marker": {
             "colorbar": {
              "outlinewidth": 0,
              "ticks": ""
             }
            },
            "type": "scatterpolar"
           }
          ],
          "scatterpolargl": [
           {
            "marker": {
             "colorbar": {
              "outlinewidth": 0,
              "ticks": ""
             }
            },
            "type": "scatterpolargl"
           }
          ],
          "scatterternary": [
           {
            "marker": {
             "colorbar": {
              "outlinewidth": 0,
              "ticks": ""
             }
            },
            "type": "scatterternary"
           }
          ],
          "surface": [
           {
            "colorbar": {
             "outlinewidth": 0,
             "ticks": ""
            },
            "colorscale": [
             [
              0,
              "#0d0887"
             ],
             [
              0.1111111111111111,
              "#46039f"
             ],
             [
              0.2222222222222222,
              "#7201a8"
             ],
             [
              0.3333333333333333,
              "#9c179e"
             ],
             [
              0.4444444444444444,
              "#bd3786"
             ],
             [
              0.5555555555555556,
              "#d8576b"
             ],
             [
              0.6666666666666666,
              "#ed7953"
             ],
             [
              0.7777777777777778,
              "#fb9f3a"
             ],
             [
              0.8888888888888888,
              "#fdca26"
             ],
             [
              1,
              "#f0f921"
             ]
            ],
            "type": "surface"
           }
          ],
          "table": [
           {
            "cells": {
             "fill": {
              "color": "#EBF0F8"
             },
             "line": {
              "color": "white"
             }
            },
            "header": {
             "fill": {
              "color": "#C8D4E3"
             },
             "line": {
              "color": "white"
             }
            },
            "type": "table"
           }
          ]
         },
         "layout": {
          "annotationdefaults": {
           "arrowcolor": "#2a3f5f",
           "arrowhead": 0,
           "arrowwidth": 1
          },
          "autotypenumbers": "strict",
          "coloraxis": {
           "colorbar": {
            "outlinewidth": 0,
            "ticks": ""
           }
          },
          "colorscale": {
           "diverging": [
            [
             0,
             "#8e0152"
            ],
            [
             0.1,
             "#c51b7d"
            ],
            [
             0.2,
             "#de77ae"
            ],
            [
             0.3,
             "#f1b6da"
            ],
            [
             0.4,
             "#fde0ef"
            ],
            [
             0.5,
             "#f7f7f7"
            ],
            [
             0.6,
             "#e6f5d0"
            ],
            [
             0.7,
             "#b8e186"
            ],
            [
             0.8,
             "#7fbc41"
            ],
            [
             0.9,
             "#4d9221"
            ],
            [
             1,
             "#276419"
            ]
           ],
           "sequential": [
            [
             0,
             "#0d0887"
            ],
            [
             0.1111111111111111,
             "#46039f"
            ],
            [
             0.2222222222222222,
             "#7201a8"
            ],
            [
             0.3333333333333333,
             "#9c179e"
            ],
            [
             0.4444444444444444,
             "#bd3786"
            ],
            [
             0.5555555555555556,
             "#d8576b"
            ],
            [
             0.6666666666666666,
             "#ed7953"
            ],
            [
             0.7777777777777778,
             "#fb9f3a"
            ],
            [
             0.8888888888888888,
             "#fdca26"
            ],
            [
             1,
             "#f0f921"
            ]
           ],
           "sequentialminus": [
            [
             0,
             "#0d0887"
            ],
            [
             0.1111111111111111,
             "#46039f"
            ],
            [
             0.2222222222222222,
             "#7201a8"
            ],
            [
             0.3333333333333333,
             "#9c179e"
            ],
            [
             0.4444444444444444,
             "#bd3786"
            ],
            [
             0.5555555555555556,
             "#d8576b"
            ],
            [
             0.6666666666666666,
             "#ed7953"
            ],
            [
             0.7777777777777778,
             "#fb9f3a"
            ],
            [
             0.8888888888888888,
             "#fdca26"
            ],
            [
             1,
             "#f0f921"
            ]
           ]
          },
          "colorway": [
           "#636efa",
           "#EF553B",
           "#00cc96",
           "#ab63fa",
           "#FFA15A",
           "#19d3f3",
           "#FF6692",
           "#B6E880",
           "#FF97FF",
           "#FECB52"
          ],
          "font": {
           "color": "#2a3f5f"
          },
          "geo": {
           "bgcolor": "white",
           "lakecolor": "white",
           "landcolor": "#E5ECF6",
           "showlakes": true,
           "showland": true,
           "subunitcolor": "white"
          },
          "hoverlabel": {
           "align": "left"
          },
          "hovermode": "closest",
          "mapbox": {
           "style": "light"
          },
          "paper_bgcolor": "white",
          "plot_bgcolor": "#E5ECF6",
          "polar": {
           "angularaxis": {
            "gridcolor": "white",
            "linecolor": "white",
            "ticks": ""
           },
           "bgcolor": "#E5ECF6",
           "radialaxis": {
            "gridcolor": "white",
            "linecolor": "white",
            "ticks": ""
           }
          },
          "scene": {
           "xaxis": {
            "backgroundcolor": "#E5ECF6",
            "gridcolor": "white",
            "gridwidth": 2,
            "linecolor": "white",
            "showbackground": true,
            "ticks": "",
            "zerolinecolor": "white"
           },
           "yaxis": {
            "backgroundcolor": "#E5ECF6",
            "gridcolor": "white",
            "gridwidth": 2,
            "linecolor": "white",
            "showbackground": true,
            "ticks": "",
            "zerolinecolor": "white"
           },
           "zaxis": {
            "backgroundcolor": "#E5ECF6",
            "gridcolor": "white",
            "gridwidth": 2,
            "linecolor": "white",
            "showbackground": true,
            "ticks": "",
            "zerolinecolor": "white"
           }
          },
          "shapedefaults": {
           "line": {
            "color": "#2a3f5f"
           }
          },
          "ternary": {
           "aaxis": {
            "gridcolor": "white",
            "linecolor": "white",
            "ticks": ""
           },
           "baxis": {
            "gridcolor": "white",
            "linecolor": "white",
            "ticks": ""
           },
           "bgcolor": "#E5ECF6",
           "caxis": {
            "gridcolor": "white",
            "linecolor": "white",
            "ticks": ""
           }
          },
          "title": {
           "x": 0.05
          },
          "xaxis": {
           "automargin": true,
           "gridcolor": "white",
           "linecolor": "white",
           "ticks": "",
           "title": {
            "standoff": 15
           },
           "zerolinecolor": "white",
           "zerolinewidth": 2
          },
          "yaxis": {
           "automargin": true,
           "gridcolor": "white",
           "linecolor": "white",
           "ticks": "",
           "title": {
            "standoff": 15
           },
           "zerolinecolor": "white",
           "zerolinewidth": 2
          }
         }
        },
        "title": {
         "text": "Actual vs Predicted Opening Value"
        },
        "xaxis": {
         "anchor": "y",
         "domain": [
          0,
          1
         ],
         "title": {
          "text": "index"
         }
        },
        "yaxis": {
         "anchor": "x",
         "domain": [
          0,
          1
         ],
         "title": {
          "text": "value"
         }
        }
       }
      }
     },
     "metadata": {},
     "output_type": "display_data"
    }
   ],
   "source": [
    "\n",
    "fig = px.line(\n",
    "    compare,\n",
    "    x=compare.index,\n",
    "    y=['Predicted', 'Actual'],\n",
    "    title='Actual vs Predicted Opening Value', markers='True'\n",
    ")\n",
    "\n",
    "fig.show()"
   ]
  },
  {
   "cell_type": "markdown",
   "metadata": {},
   "source": [
    "# Predict January 2022"
   ]
  },
  {
   "cell_type": "code",
   "execution_count": 12,
   "metadata": {},
   "outputs": [
    {
     "data": {
      "image/png": "[encoded data removed]",
      "text/plain": [
       "<Figure size 1080x288 with 1 Axes>"
      ]
     },
     "metadata": {
      "needs_background": "light"
     },
     "output_type": "display_data"
    }
   ],
   "source": [
    "jan = df.reset_index().rename(columns={'index':'Date'})\n",
    "jan['Date'] = pd.to_datetime(jan['Date'])\n",
    "test_data = jan[(jan.Date.dt.year==2022) & (jan.Date.dt.month==1)]\n",
    "\n",
    "# plot january 2022 data\n",
    "plt.figure(figsize=(15,4))\n",
    "plt.title('Open Price January 2022')\n",
    "plt.ylabel('Open Price')\n",
    "plt.xlabel('Date')\n",
    "plt.plot(jan[jan['Date'].dt.year==2022].Date,jan[jan['Date'].dt.year==2022].open);\n"
   ]
  },
  {
   "cell_type": "code",
   "execution_count": 13,
   "metadata": {},
   "outputs": [
    {
     "name": "stdout",
     "output_type": "stream",
     "text": [
      "0.006290147489889432 0.07931045006737406 0.6772722010721298\n"
     ]
    }
   ],
   "source": [
    "# close and open values for jan 2022\n",
    "X_test_jan = scaler.fit_transform(test_data.close.values.reshape(-1,1))\n",
    "y_test_jan = scaler.fit_transform(test_data.open.values.reshape(-1,1))\n",
    "\n",
    "# predict the open values \n",
    "jan_preds = model.predict(X_test_jan)\n",
    "jan_preds = scaler.inverse_transform(jan_preds)\n",
    "y_true = scaler.inverse_transform(y_test_jan)\n",
    "\n",
    "#y_true = y_test_jan\n",
    "\n",
    "# evaluation metrics\n",
    "mse = mean_squared_error(y_true, jan_preds)\n",
    "rmse = np.sqrt(mse)\n",
    "r_squared = r2_score(y_true, jan_preds)\n",
    "\n",
    "print(mse, rmse, r_squared)"
   ]
  },
  {
   "cell_type": "code",
   "execution_count": 14,
   "metadata": {},
   "outputs": [
    {
     "data": {
      "application/vnd.plotly.v1+json": {
       "config": {
        "plotlyServerURL": "https://plot.ly"
       },
       "data": [
        {
         "hovertemplate": "variable=Predicted<br>index=%{x}<br>value=%{y}<extra></extra>",
         "legendgroup": "Predicted",
         "line": {
          "color": "#636efa",
          "dash": "solid"
         },
         "marker": {
          "symbol": "circle"
         },
         "mode": "markers+lines",
         "name": "Predicted",
         "orientation": "v",
         "showlegend": true,
         "type": "scatter",
         "x": [
          0,
          1,
          2,
          3,
          4,
          5,
          6,
          7,
          8,
          9,
          10,
          11,
          12,
          13,
          14,
          15,
          16,
          17,
          18,
          19,
          20,
          21,
          22,
          23,
          24,
          25,
          26,
          27,
          28,
          29,
          30
         ],
         "xaxis": "x",
         "y": [
          1.3697402477264404,
          1.3664449453353882,
          1.3039565086364746,
          1.293446660041809,
          1.2136950492858887,
          1.2634681463241577,
          1.194521188735962,
          1.1675127744674683,
          1.1575210094451904,
          1.1164436340332031,
          1.1730220317840576,
          1.2965906858444214,
          1.2166085243225098,
          1.275780200958252,
          1.2747489213943481,
          1.402977705001831,
          1.622220754623413,
          1.4570211172103882,
          1.3230817317962646,
          1.2422550916671753,
          1.1139119863510132,
          1.0741164684295654,
          1.1172900199890137,
          1.0694457292556763,
          1.0526971817016602,
          1.0788313150405884,
          1.0519499778747559,
          1.056451678276062,
          1.0648192167282104,
          1.0467535257339478,
          1.0587190389633179
         ],
         "yaxis": "y"
        },
        {
         "hovertemplate": "variable=Actual<br>index=%{x}<br>value=%{y}<extra></extra>",
         "legendgroup": "Actual",
         "line": {
          "color": "#EF553B",
          "dash": "solid"
         },
         "marker": {
          "symbol": "circle"
         },
         "mode": "markers+lines",
         "name": "Actual",
         "orientation": "v",
         "showlegend": true,
         "type": "scatter",
         "x": [
          0,
          1,
          2,
          3,
          4,
          5,
          6,
          7,
          8,
          9,
          10,
          11,
          12,
          13,
          14,
          15,
          16,
          17,
          18,
          19,
          20,
          21,
          22,
          23,
          24,
          25,
          26,
          27,
          28,
          29,
          30
         ],
         "xaxis": "x",
         "y": [
          1.308,
          1.379,
          1.3779999999999997,
          1.319,
          1.31,
          1.2299999999999998,
          1.279,
          1.209,
          1.182,
          1.17,
          1.123,
          1.188,
          1.312,
          1.232,
          1.293,
          1.292,
          1.411,
          1.602,
          1.458,
          1.336,
          1.259,
          1.12,
          1.071,
          1.124,
          1.066,
          1.043,
          1.078,
          1.042,
          1.049,
          1.059,
          1.035
         ],
         "yaxis": "y"
        }
       ],
       "layout": {
        "legend": {
         "title": {
          "text": "variable"
         },
         "tracegroupgap": 0
        },
        "template": {
         "data": {
          "bar": [
           {
            "error_x": {
             "color": "#2a3f5f"
            },
            "error_y": {
             "color": "#2a3f5f"
            },
            "marker": {
             "line": {
              "color": "#E5ECF6",
              "width": 0.5
             },
             "pattern": {
              "fillmode": "overlay",
              "size": 10,
              "solidity": 0.2
             }
            },
            "type": "bar"
           }
          ],
          "barpolar": [
           {
            "marker": {
             "line": {
              "color": "#E5ECF6",
              "width": 0.5
             },
             "pattern": {
              "fillmode": "overlay",
              "size": 10,
              "solidity": 0.2
             }
            },
            "type": "barpolar"
           }
          ],
          "carpet": [
           {
            "aaxis": {
             "endlinecolor": "#2a3f5f",
             "gridcolor": "white",
             "linecolor": "white",
             "minorgridcolor": "white",
             "startlinecolor": "#2a3f5f"
            },
            "baxis": {
             "endlinecolor": "#2a3f5f",
             "gridcolor": "white",
             "linecolor": "white",
             "minorgridcolor": "white",
             "startlinecolor": "#2a3f5f"
            },
            "type": "carpet"
           }
          ],
          "choropleth": [
           {
            "colorbar": {
             "outlinewidth": 0,
             "ticks": ""
            },
            "type": "choropleth"
           }
          ],
          "contour": [
           {
            "colorbar": {
             "outlinewidth": 0,
             "ticks": ""
            },
            "colorscale": [
             [
              0,
              "#0d0887"
             ],
             [
              0.1111111111111111,
              "#46039f"
             ],
             [
              0.2222222222222222,
              "#7201a8"
             ],
             [
              0.3333333333333333,
              "#9c179e"
             ],
             [
              0.4444444444444444,
              "#bd3786"
             ],
             [
              0.5555555555555556,
              "#d8576b"
             ],
             [
              0.6666666666666666,
              "#ed7953"
             ],
             [
              0.7777777777777778,
              "#fb9f3a"
             ],
             [
              0.8888888888888888,
              "#fdca26"
             ],
             [
              1,
              "#f0f921"
             ]
            ],
            "type": "contour"
           }
          ],
          "contourcarpet": [
           {
            "colorbar": {
             "outlinewidth": 0,
             "ticks": ""
            },
            "type": "contourcarpet"
           }
          ],
          "heatmap": [
           {
            "colorbar": {
             "outlinewidth": 0,
             "ticks": ""
            },
            "colorscale": [
             [
              0,
              "#0d0887"
             ],
             [
              0.1111111111111111,
              "#46039f"
             ],
             [
              0.2222222222222222,
              "#7201a8"
             ],
             [
              0.3333333333333333,
              "#9c179e"
             ],
             [
              0.4444444444444444,
              "#bd3786"
             ],
             [
              0.5555555555555556,
              "#d8576b"
             ],
             [
              0.6666666666666666,
              "#ed7953"
             ],
             [
              0.7777777777777778,
              "#fb9f3a"
             ],
             [
              0.8888888888888888,
              "#fdca26"
             ],
             [
              1,
              "#f0f921"
             ]
            ],
            "type": "heatmap"
           }
          ],
          "heatmapgl": [
           {
            "colorbar": {
             "outlinewidth": 0,
             "ticks": ""
            },
            "colorscale": [
             [
              0,
              "#0d0887"
             ],
             [
              0.1111111111111111,
              "#46039f"
             ],
             [
              0.2222222222222222,
              "#7201a8"
             ],
             [
              0.3333333333333333,
              "#9c179e"
             ],
             [
              0.4444444444444444,
              "#bd3786"
             ],
             [
              0.5555555555555556,
              "#d8576b"
             ],
             [
              0.6666666666666666,
              "#ed7953"
             ],
             [
              0.7777777777777778,
              "#fb9f3a"
             ],
             [
              0.8888888888888888,
              "#fdca26"
             ],
             [
              1,
              "#f0f921"
             ]
            ],
            "type": "heatmapgl"
           }
          ],
          "histogram": [
           {
            "marker": {
             "pattern": {
              "fillmode": "overlay",
              "size": 10,
              "solidity": 0.2
             }
            },
            "type": "histogram"
           }
          ],
          "histogram2d": [
           {
            "colorbar": {
             "outlinewidth": 0,
             "ticks": ""
            },
            "colorscale": [
             [
              0,
              "#0d0887"
             ],
             [
              0.1111111111111111,
              "#46039f"
             ],
             [
              0.2222222222222222,
              "#7201a8"
             ],
             [
              0.3333333333333333,
              "#9c179e"
             ],
             [
              0.4444444444444444,
              "#bd3786"
             ],
             [
              0.5555555555555556,
              "#d8576b"
             ],
             [
              0.6666666666666666,
              "#ed7953"
             ],
             [
              0.7777777777777778,
              "#fb9f3a"
             ],
             [
              0.8888888888888888,
              "#fdca26"
             ],
             [
              1,
              "#f0f921"
             ]
            ],
            "type": "histogram2d"
           }
          ],
          "histogram2dcontour": [
           {
            "colorbar": {
             "outlinewidth": 0,
             "ticks": ""
            },
            "colorscale": [
             [
              0,
              "#0d0887"
             ],
             [
              0.1111111111111111,
              "#46039f"
             ],
             [
              0.2222222222222222,
              "#7201a8"
             ],
             [
              0.3333333333333333,
              "#9c179e"
             ],
             [
              0.4444444444444444,
              "#bd3786"
             ],
             [
              0.5555555555555556,
              "#d8576b"
             ],
             [
              0.6666666666666666,
              "#ed7953"
             ],
             [
              0.7777777777777778,
              "#fb9f3a"
             ],
             [
              0.8888888888888888,
              "#fdca26"
             ],
             [
              1,
              "#f0f921"
             ]
            ],
            "type": "histogram2dcontour"
           }
          ],
          "mesh3d": [
           {
            "colorbar": {
             "outlinewidth": 0,
             "ticks": ""
            },
            "type": "mesh3d"
           }
          ],
          "parcoords": [
           {
            "line": {
             "colorbar": {
              "outlinewidth": 0,
              "ticks": ""
             }
            },
            "type": "parcoords"
           }
          ],
          "pie": [
           {
            "automargin": true,
            "type": "pie"
           }
          ],
          "scatter": [
           {
            "marker": {
             "colorbar": {
              "outlinewidth": 0,
              "ticks": ""
             }
            },
            "type": "scatter"
           }
          ],
          "scatter3d": [
           {
            "line": {
             "colorbar": {
              "outlinewidth": 0,
              "ticks": ""
             }
            },
            "marker": {
             "colorbar": {
              "outlinewidth": 0,
              "ticks": ""
             }
            },
            "type": "scatter3d"
           }
          ],
          "scattercarpet": [
           {
            "marker": {
             "colorbar": {
              "outlinewidth": 0,
              "ticks": ""
             }
            },
            "type": "scattercarpet"
           }
          ],
          "scattergeo": [
           {
            "marker": {
             "colorbar": {
              "outlinewidth": 0,
              "ticks": ""
             }
            },
            "type": "scattergeo"
           }
          ],
          "scattergl": [
           {
            "marker": {
             "colorbar": {
              "outlinewidth": 0,
              "ticks": ""
             }
            },
            "type": "scattergl"
           }
          ],
          "scattermapbox": [
           {
            "marker": {
             "colorbar": {
              "outlinewidth": 0,
              "ticks": ""
             }
            },
            "type": "scattermapbox"
           }
          ],
          "scatterpolar": [
           {
            "marker": {
             "colorbar": {
              "outlinewidth": 0,
              "ticks": ""
             }
            },
            "type": "scatterpolar"
           }
          ],
          "scatterpolargl": [
           {
            "marker": {
             "colorbar": {
              "outlinewidth": 0,
              "ticks": ""
             }
            },
            "type": "scatterpolargl"
           }
          ],
          "scatterternary": [
           {
            "marker": {
             "colorbar": {
              "outlinewidth": 0,
              "ticks": ""
             }
            },
            "type": "scatterternary"
           }
          ],
          "surface": [
           {
            "colorbar": {
             "outlinewidth": 0,
             "ticks": ""
            },
            "colorscale": [
             [
              0,
              "#0d0887"
             ],
             [
              0.1111111111111111,
              "#46039f"
             ],
             [
              0.2222222222222222,
              "#7201a8"
             ],
             [
              0.3333333333333333,
              "#9c179e"
             ],
             [
              0.4444444444444444,
              "#bd3786"
             ],
             [
              0.5555555555555556,
              "#d8576b"
             ],
             [
              0.6666666666666666,
              "#ed7953"
             ],
             [
              0.7777777777777778,
              "#fb9f3a"
             ],
             [
              0.8888888888888888,
              "#fdca26"
             ],
             [
              1,
              "#f0f921"
             ]
            ],
            "type": "surface"
           }
          ],
          "table": [
           {
            "cells": {
             "fill": {
              "color": "#EBF0F8"
             },
             "line": {
              "color": "white"
             }
            },
            "header": {
             "fill": {
              "color": "#C8D4E3"
             },
             "line": {
              "color": "white"
             }
            },
            "type": "table"
           }
          ]
         },
         "layout": {
          "annotationdefaults": {
           "arrowcolor": "#2a3f5f",
           "arrowhead": 0,
           "arrowwidth": 1
          },
          "autotypenumbers": "strict",
          "coloraxis": {
           "colorbar": {
            "outlinewidth": 0,
            "ticks": ""
           }
          },
          "colorscale": {
           "diverging": [
            [
             0,
             "#8e0152"
            ],
            [
             0.1,
             "#c51b7d"
            ],
            [
             0.2,
             "#de77ae"
            ],
            [
             0.3,
             "#f1b6da"
            ],
            [
             0.4,
             "#fde0ef"
            ],
            [
             0.5,
             "#f7f7f7"
            ],
            [
             0.6,
             "#e6f5d0"
            ],
            [
             0.7,
             "#b8e186"
            ],
            [
             0.8,
             "#7fbc41"
            ],
            [
             0.9,
             "#4d9221"
            ],
            [
             1,
             "#276419"
            ]
           ],
           "sequential": [
            [
             0,
             "#0d0887"
            ],
            [
             0.1111111111111111,
             "#46039f"
            ],
            [
             0.2222222222222222,
             "#7201a8"
            ],
            [
             0.3333333333333333,
             "#9c179e"
            ],
            [
             0.4444444444444444,
             "#bd3786"
            ],
            [
             0.5555555555555556,
             "#d8576b"
            ],
            [
             0.6666666666666666,
             "#ed7953"
            ],
            [
             0.7777777777777778,
             "#fb9f3a"
            ],
            [
             0.8888888888888888,
             "#fdca26"
            ],
            [
             1,
             "#f0f921"
            ]
           ],
           "sequentialminus": [
            [
             0,
             "#0d0887"
            ],
            [
             0.1111111111111111,
             "#46039f"
            ],
            [
             0.2222222222222222,
             "#7201a8"
            ],
            [
             0.3333333333333333,
             "#9c179e"
            ],
            [
             0.4444444444444444,
             "#bd3786"
            ],
            [
             0.5555555555555556,
             "#d8576b"
            ],
            [
             0.6666666666666666,
             "#ed7953"
            ],
            [
             0.7777777777777778,
             "#fb9f3a"
            ],
            [
             0.8888888888888888,
             "#fdca26"
            ],
            [
             1,
             "#f0f921"
            ]
           ]
          },
          "colorway": [
           "#636efa",
           "#EF553B",
           "#00cc96",
           "#ab63fa",
           "#FFA15A",
           "#19d3f3",
           "#FF6692",
           "#B6E880",
           "#FF97FF",
           "#FECB52"
          ],
          "font": {
           "color": "#2a3f5f"
          },
          "geo": {
           "bgcolor": "white",
           "lakecolor": "white",
           "landcolor": "#E5ECF6",
           "showlakes": true,
           "showland": true,
           "subunitcolor": "white"
          },
          "hoverlabel": {
           "align": "left"
          },
          "hovermode": "closest",
          "mapbox": {
           "style": "light"
          },
          "paper_bgcolor": "white",
          "plot_bgcolor": "#E5ECF6",
          "polar": {
           "angularaxis": {
            "gridcolor": "white",
            "linecolor": "white",
            "ticks": ""
           },
           "bgcolor": "#E5ECF6",
           "radialaxis": {
            "gridcolor": "white",
            "linecolor": "white",
            "ticks": ""
           }
          },
          "scene": {
           "xaxis": {
            "backgroundcolor": "#E5ECF6",
            "gridcolor": "white",
            "gridwidth": 2,
            "linecolor": "white",
            "showbackground": true,
            "ticks": "",
            "zerolinecolor": "white"
           },
           "yaxis": {
            "backgroundcolor": "#E5ECF6",
            "gridcolor": "white",
            "gridwidth": 2,
            "linecolor": "white",
            "showbackground": true,
            "ticks": "",
            "zerolinecolor": "white"
           },
           "zaxis": {
            "backgroundcolor": "#E5ECF6",
            "gridcolor": "white",
            "gridwidth": 2,
            "linecolor": "white",
            "showbackground": true,
            "ticks": "",
            "zerolinecolor": "white"
           }
          },
          "shapedefaults": {
           "line": {
            "color": "#2a3f5f"
           }
          },
          "ternary": {
           "aaxis": {
            "gridcolor": "white",
            "linecolor": "white",
            "ticks": ""
           },
           "baxis": {
            "gridcolor": "white",
            "linecolor": "white",
            "ticks": ""
           },
           "bgcolor": "#E5ECF6",
           "caxis": {
            "gridcolor": "white",
            "linecolor": "white",
            "ticks": ""
           }
          },
          "title": {
           "x": 0.05
          },
          "xaxis": {
           "automargin": true,
           "gridcolor": "white",
           "linecolor": "white",
           "ticks": "",
           "title": {
            "standoff": 15
           },
           "zerolinecolor": "white",
           "zerolinewidth": 2
          },
          "yaxis": {
           "automargin": true,
           "gridcolor": "white",
           "linecolor": "white",
           "ticks": "",
           "title": {
            "standoff": 15
           },
           "zerolinecolor": "white",
           "zerolinewidth": 2
          }
         }
        },
        "title": {
         "text": "Actual vs Predicted Opening Value for January 2022"
        },
        "xaxis": {
         "anchor": "y",
         "domain": [
          0,
          1
         ],
         "title": {
          "text": "index"
         }
        },
        "yaxis": {
         "anchor": "x",
         "domain": [
          0,
          1
         ],
         "title": {
          "text": "value"
         }
        }
       }
      }
     },
     "metadata": {},
     "output_type": "display_data"
    }
   ],
   "source": [
    "compare = pd.DataFrame(zip([i[0] for i in jan_preds], [i[0] for i in y_true]),\n",
    "               columns =['Predicted', 'Actual'])\n",
    "\n",
    "\n",
    "fig = px.line(\n",
    "    compare,\n",
    "    x=compare.index,\n",
    "    y=['Predicted', 'Actual'],\n",
    "    title='Actual vs Predicted Opening Value for January 2022', markers='True'\n",
    ")\n",
    "\n",
    "fig.show()"
   ]
  }
 ],
 "metadata": {
  "interpreter": {
   "hash": "b3ba2566441a7c06988d0923437866b63cedc61552a5af99d1f4fb67d367b25f"
  },
  "kernelspec": {
   "display_name": "Python 3.9.7 64-bit ('base': conda)",
   "language": "python",
   "name": "python3"
  },
  "language_info": {
   "codemirror_mode": {
    "name": "ipython",
    "version": 3
   },
   "file_extension": ".py",
   "mimetype": "text/x-python",
   "name": "python",
   "nbconvert_exporter": "python",
   "pygments_lexer": "ipython3",
   "version": "3.9.7"
  },
  "orig_nbformat": 4
 },
 "nbformat": 4,
 "nbformat_minor": 2
}

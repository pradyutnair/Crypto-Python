{
 "cells": [
  {
   "cell_type": "markdown",
   "metadata": {},
   "source": [
    "# Imports"
   ]
  },
  {
   "cell_type": "code",
   "execution_count": 153,
   "metadata": {},
   "outputs": [],
   "source": [
    "import math\n",
    "import yfinance as yf\n",
    "import numpy as np\n",
    "import pandas as pd\n",
    "from sklearn.preprocessing import MinMaxScaler \n",
    "import matplotlib.pyplot as plt\n",
    "import tensorflow as tf\n",
    "from tensorflow import keras\n",
    "from tensorflow.keras import layers\n",
    "from pycoingecko import CoinGeckoAPI\n",
    "from sklearn.model_selection import train_test_split\n",
    "import requests\n",
    "import pandas as pd\n",
    "import plotly.graph_objects as go\n",
    "from sklearn.metrics import mean_squared_error\n",
    "from sklearn.metrics import r2_score\n",
    "import plotly.express as px\n",
    "from mplfinance.original_flavor import candlestick_ohlc\n",
    "import matplotlib.dates as mpl_dates\n",
    "import warnings\n",
    "from sklearn.model_selection import TimeSeriesSplit\n",
    "warnings.filterwarnings(\"ignore\")"
   ]
  },
  {
   "cell_type": "markdown",
   "metadata": {},
   "source": [
    "# Import data"
   ]
  },
  {
   "cell_type": "code",
   "execution_count": 154,
   "metadata": {},
   "outputs": [
    {
     "data": {
      "text/html": [
       "<div>\n",
       "<style scoped>\n",
       "    .dataframe tbody tr th:only-of-type {\n",
       "        vertical-align: middle;\n",
       "    }\n",
       "\n",
       "    .dataframe tbody tr th {\n",
       "        vertical-align: top;\n",
       "    }\n",
       "\n",
       "    .dataframe thead th {\n",
       "        text-align: right;\n",
       "    }\n",
       "</style>\n",
       "<table border=\"1\" class=\"dataframe\">\n",
       "  <thead>\n",
       "    <tr style=\"text-align: right;\">\n",
       "      <th></th>\n",
       "      <th>open</th>\n",
       "      <th>high</th>\n",
       "      <th>low</th>\n",
       "      <th>close</th>\n",
       "      <th>volume</th>\n",
       "    </tr>\n",
       "  </thead>\n",
       "  <tbody>\n",
       "    <tr>\n",
       "      <th>2021-05-10</th>\n",
       "      <td>0.000014</td>\n",
       "      <td>0.000050</td>\n",
       "      <td>0.000014</td>\n",
       "      <td>0.000035</td>\n",
       "      <td>9.530231e+13</td>\n",
       "    </tr>\n",
       "    <tr>\n",
       "      <th>2021-05-11</th>\n",
       "      <td>0.000035</td>\n",
       "      <td>0.000038</td>\n",
       "      <td>0.000028</td>\n",
       "      <td>0.000030</td>\n",
       "      <td>6.451279e+13</td>\n",
       "    </tr>\n",
       "    <tr>\n",
       "      <th>2021-05-12</th>\n",
       "      <td>0.000030</td>\n",
       "      <td>0.000031</td>\n",
       "      <td>0.000018</td>\n",
       "      <td>0.000018</td>\n",
       "      <td>8.690914e+13</td>\n",
       "    </tr>\n",
       "    <tr>\n",
       "      <th>2021-05-13</th>\n",
       "      <td>0.000018</td>\n",
       "      <td>0.000024</td>\n",
       "      <td>0.000015</td>\n",
       "      <td>0.000021</td>\n",
       "      <td>9.125488e+13</td>\n",
       "    </tr>\n",
       "    <tr>\n",
       "      <th>2021-05-14</th>\n",
       "      <td>0.000021</td>\n",
       "      <td>0.000022</td>\n",
       "      <td>0.000018</td>\n",
       "      <td>0.000018</td>\n",
       "      <td>4.092785e+13</td>\n",
       "    </tr>\n",
       "    <tr>\n",
       "      <th>...</th>\n",
       "      <td>...</td>\n",
       "      <td>...</td>\n",
       "      <td>...</td>\n",
       "      <td>...</td>\n",
       "      <td>...</td>\n",
       "    </tr>\n",
       "    <tr>\n",
       "      <th>2022-02-03</th>\n",
       "      <td>0.000021</td>\n",
       "      <td>0.000021</td>\n",
       "      <td>0.000020</td>\n",
       "      <td>0.000021</td>\n",
       "      <td>3.687629e+12</td>\n",
       "    </tr>\n",
       "    <tr>\n",
       "      <th>2022-02-04</th>\n",
       "      <td>0.000021</td>\n",
       "      <td>0.000022</td>\n",
       "      <td>0.000021</td>\n",
       "      <td>0.000022</td>\n",
       "      <td>6.004844e+12</td>\n",
       "    </tr>\n",
       "    <tr>\n",
       "      <th>2022-02-05</th>\n",
       "      <td>0.000022</td>\n",
       "      <td>0.000024</td>\n",
       "      <td>0.000022</td>\n",
       "      <td>0.000023</td>\n",
       "      <td>7.828548e+12</td>\n",
       "    </tr>\n",
       "    <tr>\n",
       "      <th>2022-02-06</th>\n",
       "      <td>0.000022</td>\n",
       "      <td>0.000029</td>\n",
       "      <td>0.000022</td>\n",
       "      <td>0.000028</td>\n",
       "      <td>1.812868e+13</td>\n",
       "    </tr>\n",
       "    <tr>\n",
       "      <th>2022-02-07</th>\n",
       "      <td>0.000028</td>\n",
       "      <td>0.000029</td>\n",
       "      <td>0.000027</td>\n",
       "      <td>0.000028</td>\n",
       "      <td>9.250168e+11</td>\n",
       "    </tr>\n",
       "  </tbody>\n",
       "</table>\n",
       "<p>274 rows × 5 columns</p>\n",
       "</div>"
      ],
      "text/plain": [
       "                open      high       low     close        volume\n",
       "2021-05-10  0.000014  0.000050  0.000014  0.000035  9.530231e+13\n",
       "2021-05-11  0.000035  0.000038  0.000028  0.000030  6.451279e+13\n",
       "2021-05-12  0.000030  0.000031  0.000018  0.000018  8.690914e+13\n",
       "2021-05-13  0.000018  0.000024  0.000015  0.000021  9.125488e+13\n",
       "2021-05-14  0.000021  0.000022  0.000018  0.000018  4.092785e+13\n",
       "...              ...       ...       ...       ...           ...\n",
       "2022-02-03  0.000021  0.000021  0.000020  0.000021  3.687629e+12\n",
       "2022-02-04  0.000021  0.000022  0.000021  0.000022  6.004844e+12\n",
       "2022-02-05  0.000022  0.000024  0.000022  0.000023  7.828548e+12\n",
       "2022-02-06  0.000022  0.000029  0.000022  0.000028  1.812868e+13\n",
       "2022-02-07  0.000028  0.000029  0.000027  0.000028  9.250168e+11\n",
       "\n",
       "[274 rows x 5 columns]"
      ]
     },
     "execution_count": 154,
     "metadata": {},
     "output_type": "execute_result"
    }
   ],
   "source": [
    "\n",
    "\n",
    "def get_crypto_price(symbol, exchange, start_date = None):\n",
    "    api_key = 'YOUR API KEY'\n",
    "    api_url = f'https://www.alphavantage.co/query?function=DIGITAL_CURRENCY_DAILY&symbol={symbol}&market={exchange}&apikey={api_key}'\n",
    "    raw_df = requests.get(api_url).json()\n",
    "    df = pd.DataFrame(raw_df['Time Series (Digital Currency Daily)']).T\n",
    "    df = df.rename(columns = {'1a. open (USD)': 'open', '2a. high (USD)': 'high', '3a. low (USD)': 'low', '4a. close (USD)': 'close', '5. volume': 'volume'})\n",
    "    for i in df.columns:\n",
    "        df[i] = df[i].astype(float)\n",
    "    df.index = pd.to_datetime(df.index)\n",
    "    df = df.iloc[::-1].drop(['1b. open (USD)', '2b. high (USD)', '3b. low (USD)', '4b. close (USD)', '6. market cap (USD)'], axis = 1)\n",
    "    if start_date:\n",
    "        df = df[df.index >= start_date]\n",
    "    return df\n",
    "\n",
    "df = get_crypto_price(symbol = 'SHIB', exchange = 'USD', start_date = '2021-1-1')\n",
    "df"
   ]
  },
  {
   "cell_type": "markdown",
   "metadata": {},
   "source": [
    "# Create normalised data"
   ]
  },
  {
   "cell_type": "code",
   "execution_count": 155,
   "metadata": {},
   "outputs": [
    {
     "data": {
      "text/html": [
       "<div>\n",
       "<style scoped>\n",
       "    .dataframe tbody tr th:only-of-type {\n",
       "        vertical-align: middle;\n",
       "    }\n",
       "\n",
       "    .dataframe tbody tr th {\n",
       "        vertical-align: top;\n",
       "    }\n",
       "\n",
       "    .dataframe thead th {\n",
       "        text-align: right;\n",
       "    }\n",
       "</style>\n",
       "<table border=\"1\" class=\"dataframe\">\n",
       "  <thead>\n",
       "    <tr style=\"text-align: right;\">\n",
       "      <th></th>\n",
       "      <th>open</th>\n",
       "      <th>high</th>\n",
       "      <th>low</th>\n",
       "      <th>close</th>\n",
       "      <th>volume</th>\n",
       "    </tr>\n",
       "  </thead>\n",
       "  <tbody>\n",
       "    <tr>\n",
       "      <th>0</th>\n",
       "      <td>0.112478</td>\n",
       "      <td>0.531713</td>\n",
       "      <td>0.146906</td>\n",
       "      <td>0.393194</td>\n",
       "      <td>0.384932</td>\n",
       "    </tr>\n",
       "    <tr>\n",
       "      <th>1</th>\n",
       "      <td>0.393467</td>\n",
       "      <td>0.385784</td>\n",
       "      <td>0.369707</td>\n",
       "      <td>0.335247</td>\n",
       "      <td>0.259352</td>\n",
       "    </tr>\n",
       "    <tr>\n",
       "      <th>2</th>\n",
       "      <td>0.334973</td>\n",
       "      <td>0.306926</td>\n",
       "      <td>0.202280</td>\n",
       "      <td>0.168375</td>\n",
       "      <td>0.350699</td>\n",
       "    </tr>\n",
       "    <tr>\n",
       "      <th>3</th>\n",
       "      <td>0.167828</td>\n",
       "      <td>0.210571</td>\n",
       "      <td>0.166124</td>\n",
       "      <td>0.206779</td>\n",
       "      <td>0.368424</td>\n",
       "    </tr>\n",
       "    <tr>\n",
       "      <th>4</th>\n",
       "      <td>0.206915</td>\n",
       "      <td>0.194411</td>\n",
       "      <td>0.212704</td>\n",
       "      <td>0.170972</td>\n",
       "      <td>0.163157</td>\n",
       "    </tr>\n",
       "  </tbody>\n",
       "</table>\n",
       "</div>"
      ],
      "text/plain": [
       "       open      high       low     close    volume\n",
       "0  0.112478  0.531713  0.146906  0.393194  0.384932\n",
       "1  0.393467  0.385784  0.369707  0.335247  0.259352\n",
       "2  0.334973  0.306926  0.202280  0.168375  0.350699\n",
       "3  0.167828  0.210571  0.166124  0.206779  0.368424\n",
       "4  0.206915  0.194411  0.212704  0.170972  0.163157"
      ]
     },
     "execution_count": 155,
     "metadata": {},
     "output_type": "execute_result"
    }
   ],
   "source": [
    "scaler = MinMaxScaler()\n",
    "norm_df = pd.DataFrame(scaler.fit_transform(df),columns=df.columns)\n",
    "norm_df.head()"
   ]
  },
  {
   "cell_type": "markdown",
   "metadata": {},
   "source": [
    "# Timeseries splitting"
   ]
  },
  {
   "cell_type": "code",
   "execution_count": 156,
   "metadata": {},
   "outputs": [],
   "source": [
    "def TimeSeriesSplitter(norm_input_data, n_features = 4, sequence_length = 5, output_length = 1):\n",
    "    '''\n",
    "    # Time series split\n",
    "    Provides train/test indices to split time series data samples that are observed at fixed time intervals, in train/test sets. \n",
    "    In each split, test indices must be higher than before, and thus shuffling in cross validator is inappropriate.\n",
    "    '''\n",
    "    \n",
    "    X,y = [],[]\n",
    "    batch_size = len(norm_input_data)\n",
    "    \n",
    "    # create sequence splits\n",
    "    tscv = TimeSeriesSplit(gap = 0, max_train_size = sequence_length, n_splits = int(batch_size / output_length) - int(sequence_length / output_length), test_size = output_length)\n",
    "    \n",
    "    # create sequences\n",
    "    for X_index, y_index in tscv.split(norm_input_data.iloc[:,3]):\n",
    "        X.append([[norm_input_data.iloc[i,f] for f in range(n_features)] for i in X_index]) \n",
    "        y.append([[[norm_input_data.iloc[i,3]]] for i in y_index])\n",
    "\n",
    "    # transform target variable: becomes 1 if price increases otherwise 0 (classification)       \n",
    "    last_price = 0 # initialize first known price in dataset\n",
    "    for i in range(1,len(y)):\n",
    "        if y[i][0][0] > last_price: # price increasement\n",
    "            y[i][0][0] = 1\n",
    "        else: # price decreasement\n",
    "            y[i][0][0] = 0\n",
    "        last_price = y[i][0][0]\n",
    "        \n",
    "    return X, y"
   ]
  },
  {
   "cell_type": "code",
   "execution_count": 157,
   "metadata": {},
   "outputs": [],
   "source": [
    "norm_input_data = norm_df\n",
    "sequence_length = 6\n",
    "output_length = 1\n",
    "n_features = 4\n",
    "X,y = [],[]\n",
    "batch_size = len(norm_input_data)\n",
    "    \n",
    "# create sequence splits\n",
    "tscv = TimeSeriesSplit(gap = 0, max_train_size = sequence_length, n_splits = int(batch_size / output_length) - int(sequence_length / output_length), test_size = output_length)\n",
    "    \n",
    "    # create sequences\n",
    "for X_index, y_index in tscv.split(norm_input_data.close):\n",
    "     X.append([[norm_input_data.iloc[i,f] for f in range(n_features)] for i in X_index]) \n",
    "     y.append([[[norm_input_data.iloc[i,3]]] for i in y_index])\n",
    "\n",
    "# transform target variable: becomes 1 if price increases otherwise 0 (classification)       \n",
    "last_price = 0 # initialize first known price in dataset\n",
    "for i in range(1,len(y)):\n",
    "    if y[i][0][0][0] > last_price: # price increasement\n",
    "        y[i][0][0][0] = 1\n",
    "    else: # price decreasement\n",
    "        y[i][0][0][0] = 0\n",
    "        last_price = y[i][0][0][0]     \n"
   ]
  },
  {
   "cell_type": "markdown",
   "metadata": {},
   "source": [
    "# RNN Classifier"
   ]
  },
  {
   "cell_type": "code",
   "execution_count": 158,
   "metadata": {},
   "outputs": [
    {
     "name": "stdout",
     "output_type": "stream",
     "text": [
      "Model: \"sequential_14\"\n",
      "_________________________________________________________________\n",
      " Layer (type)                Output Shape              Param #   \n",
      "=================================================================\n",
      " simple_rnn_14 (SimpleRNN)   (None, 64)                4416      \n",
      "                                                                 \n",
      " dense_26 (Dense)            (None, 64)                4160      \n",
      "                                                                 \n",
      " dense_27 (Dense)            (None, 1)                 65        \n",
      "                                                                 \n",
      "=================================================================\n",
      "Total params: 8,641\n",
      "Trainable params: 8,641\n",
      "Non-trainable params: 0\n",
      "_________________________________________________________________\n"
     ]
    }
   ],
   "source": [
    "from keras.layers import *\n",
    "model = keras.Sequential() # initialize sequential model\n",
    "    \n",
    "model.add(SimpleRNN(64, input_shape = (6, 4), activation = 'sigmoid', return_sequences = False)) # add input layer\n",
    "#model.add(Dropout(0.5))\n",
    "model.add(Dense(64, activation=\"sigmoid\")) # add dense layer with X internal units (neurons)\n",
    "#model.add(Dropout(0.5))\n",
    "model.add(Dense(1, activation=\"sigmoid\")) # add dense layer as output layer (sigmoid activation as we're interested in the probability)\n",
    "#model.add(Dropout(0.5))\n",
    "\n",
    "opt = tf.keras.optimizers.Adam(learning_rate = 0.01) # define optimizer\n",
    "model.compile(loss='binary_crossentropy', optimizer = opt, metrics = ['accuracy']) # compile model\n",
    "\n",
    "model.summary() # print model summary"
   ]
  },
  {
   "cell_type": "markdown",
   "metadata": {},
   "source": [
    "# Train process"
   ]
  },
  {
   "cell_type": "code",
   "execution_count": 159,
   "metadata": {},
   "outputs": [],
   "source": [
    "def TrainValidSplit(X, y):\n",
    "    \n",
    "    def __init__(self, X_train, y_train, x_valid, y_valid):\n",
    "        self.X_train = X_train\n",
    "        self.y_train = y_train\n",
    "        self.X_valid = X_valid\n",
    "        self.y_valid = y_valid\n",
    "        \n",
    "    total_sequences = len(X)\n",
    "\n",
    "    # define train, val, test sizes from config\n",
    "    train_size  = int(total_sequences * 0.7)\n",
    "    val_size    = train_size + int(total_sequences * 0.3)\n",
    "\n",
    "    # define train, val, test sets for X and y\n",
    "    X_train, y_train  = np.array(X[:train_size]), np.array(y[:train_size])\n",
    "    X_valid, y_valid  = np.array(X[train_size:val_size]), np.array(y[train_size:val_size])\n",
    "\n",
    "    # reshape to target variable to 3 dimensional -> (batch x timesteps x features) required for RNN \n",
    "    y_train = np.reshape(y_train, (y_train.shape[0], y_train.shape[1], 1)).astype(np.float32)\n",
    "    y_valid = np.reshape(y_valid, (y_valid.shape[0], y_valid.shape[1], 1)).astype(np.float32)\n",
    "\n",
    "    return X_train, X_valid, y_train, y_valid\n"
   ]
  },
  {
   "cell_type": "code",
   "execution_count": 160,
   "metadata": {},
   "outputs": [],
   "source": [
    "X_train, X_valid, y_train, y_valid = TrainValidSplit(X,y)"
   ]
  },
  {
   "cell_type": "code",
   "execution_count": 161,
   "metadata": {},
   "outputs": [],
   "source": [
    "def trainModel(X_train, X_valid, y_train, Y_valid, n_features = 5, sequence_length = 1):\n",
    "    model.fit(X_train, y_train, epochs = 10, validation_data = (X_valid, y_valid), verbose = 0) # train model\n",
    "\n",
    "    model.evaluate(X_valid, y_valid) # evaluate model\n",
    "    \n",
    "    "
   ]
  },
  {
   "cell_type": "code",
   "execution_count": 162,
   "metadata": {},
   "outputs": [
    {
     "name": "stdout",
     "output_type": "stream",
     "text": [
      "3/3 [==============================] - 0s 5ms/step - loss: 0.0078 - accuracy: 1.0000\n"
     ]
    }
   ],
   "source": [
    "trainModel(X_train, X_valid, y_train, y_valid)"
   ]
  },
  {
   "cell_type": "code",
   "execution_count": 163,
   "metadata": {},
   "outputs": [
    {
     "data": {
      "text/plain": [
       "True"
      ]
     },
     "execution_count": 163,
     "metadata": {},
     "output_type": "execute_result"
    }
   ],
   "source": [
    "model.predict(X_valid)[0][0] > 0.5"
   ]
  }
 ],
 "metadata": {
  "interpreter": {
   "hash": "b3ba2566441a7c06988d0923437866b63cedc61552a5af99d1f4fb67d367b25f"
  },
  "kernelspec": {
   "display_name": "Python 3.9.7 ('base')",
   "language": "python",
   "name": "python3"
  },
  "language_info": {
   "codemirror_mode": {
    "name": "ipython",
    "version": 3
   },
   "file_extension": ".py",
   "mimetype": "text/x-python",
   "name": "python",
   "nbconvert_exporter": "python",
   "pygments_lexer": "ipython3",
   "version": "3.9.7"
  },
  "orig_nbformat": 4
 },
 "nbformat": 4,
 "nbformat_minor": 2
}
